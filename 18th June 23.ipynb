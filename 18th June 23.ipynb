{
 "cells": [
  {
   "cell_type": "markdown",
   "id": "637c0f03-e9af-40c8-a9f6-7281c8b3ae31",
   "metadata": {},
   "source": [
    "1. What is the role of the 'else' block in a try-except statement? Provide an example\n",
    "scenario where it would be useful."
   ]
  },
  {
   "cell_type": "markdown",
   "id": "7f284406-1f5e-4e6e-9ed1-33f6926df9a5",
   "metadata": {},
   "source": [
    "The else block in a try-except statement is optional and provides a way to specify code that should be executed only if no exception occurs in the corresponding try block. \n",
    "The else block is executed after the try block has completed successfully, without raising any exceptions.\n"
   ]
  },
  {
   "cell_type": "code",
   "execution_count": 1,
   "id": "70f44898-0722-4ffc-aed8-647fb3ba9fbc",
   "metadata": {},
   "outputs": [
    {
     "name": "stdout",
     "output_type": "stream",
     "text": [
      "10\n",
      "No Error\n"
     ]
    }
   ],
   "source": [
    "#example:\n",
    "\n",
    "try:\n",
    "    x=10\n",
    "    print(x)\n",
    "except:\n",
    "    print(\"There is no x\")\n",
    "else:\n",
    "    print(\"No Error\")\n"
   ]
  },
  {
   "cell_type": "markdown",
   "id": "9fb093e4-4740-4d2a-b029-77bb1c915c9b",
   "metadata": {},
   "source": [
    "2. Can a try-except block be nested inside another try-except block? Explain with an\n",
    "example."
   ]
  },
  {
   "cell_type": "markdown",
   "id": "1b6bc407-c620-45ac-919d-b31d3513ffef",
   "metadata": {},
   "source": [
    "We can have nested try-except blocks in Python. In this case, if an exception is raised in the nested try block, the nested except block is used to handle it. In case the nested except is not able to handle it, the outer except blocks are used to handle the exception."
   ]
  },
  {
   "cell_type": "code",
   "execution_count": 2,
   "id": "319ef5bd-b4e6-487b-b446-d55ea2b2f281",
   "metadata": {},
   "outputs": [
    {
     "name": "stdout",
     "output_type": "stream",
     "text": [
      "outer try block\n",
      "nested try block\n",
      "outer except block\n",
      "division by zero\n"
     ]
    }
   ],
   "source": [
    "#example:\n",
    "\n",
    "x = 10\n",
    "y = 0\n",
    "\n",
    "try:\n",
    "    print(\"outer try block\")\n",
    "    try:\n",
    "        print(\"nested try block\")\n",
    "        print(x / y)\n",
    "    except TypeError as te:\n",
    "        print(\"nested except block\")\n",
    "        print(te)\n",
    "except ZeroDivisionError as ze:\n",
    "    print(\"outer except block\")\n",
    "    print(ze)"
   ]
  },
  {
   "cell_type": "markdown",
   "id": "bb8a3662-91bf-4ae1-8441-fc4bae7d8ada",
   "metadata": {},
   "source": [
    "3. How can you create a custom exception class in Python? Provide an example that\n",
    "demonstrates its usage."
   ]
  },
  {
   "cell_type": "markdown",
   "id": "6f6e9f66-4ca4-471f-854e-3f2a63dd0882",
   "metadata": {},
   "source": [
    "we can define custom exceptions by creating a new class that is derived from the built-in Exception class."
   ]
  },
  {
   "cell_type": "code",
   "execution_count": 5,
   "id": "54a26dc7-b45d-48eb-a561-b56bc1658119",
   "metadata": {},
   "outputs": [
    {
     "name": "stdin",
     "output_type": "stream",
     "text": [
      "Enter a number:  10\n"
     ]
    },
    {
     "name": "stdout",
     "output_type": "stream",
     "text": [
      "Exception occurred: Not eligible to vote\n"
     ]
    }
   ],
   "source": [
    "class InvalidAgeException(Exception):\n",
    "    \"Raised when the input value is less than 18\"\n",
    "    pass\n",
    "\n",
    "number = 18\n",
    "\n",
    "try:\n",
    "    input_num = int(input(\"Enter a number: \"))\n",
    "    if input_num < number:\n",
    "        raise InvalidAgeException\n",
    "    else:\n",
    "        print(\"Eligible to Vote\")\n",
    "        \n",
    "except InvalidAgeException:\n",
    "    print(\"Exception occurred: Not eligible to vote\")"
   ]
  },
  {
   "cell_type": "markdown",
   "id": "938c8e74-5679-4e58-a99a-8d0b11767cfb",
   "metadata": {},
   "source": [
    "4. What are some common exceptions that are built-in to Python?"
   ]
  },
  {
   "cell_type": "markdown",
   "id": "f0043ee6-f195-48d1-8c88-d5fa1d0fe953",
   "metadata": {},
   "source": [
    "1.ArithmeticError: Raised when an error occurs in numeric calculations\n",
    "2.AttributeError: Raised when attribute reference or assignment fails\n",
    "3.Exception: Base class for all exceptions\n",
    "4.EOFError: Raised when the input() method hits an \"end of file\" condition (EOF)\n",
    "5.FloatingPointError: Raised when a floating point calculation fails\n",
    "6.ImportError: Raised when an imported module does not exist\n",
    "7.IndentationError: Raised when indentation is not correct\n",
    "8.IndexError: Raised when an index of a sequence does not exist\n",
    "9.KeyError: Raised when a key does not exist in a dictionary\n",
    "10.MemoryError: Raised when a program runs out of memory\n",
    "11.NameError: Raised when a variable does not exist\n",
    "12.SyntaxError: Raised when a syntax error occurs\n",
    "13.TabError: Raised when indentation consists of tabs or spaces\n",
    "14.TypeError: Raised when two different types are combined\n",
    "15.ValueError: Raised when there is a wrong value in a specified data type\n",
    "16.ZeroDivisionError: Raised when the second operator in a division is zero"
   ]
  },
  {
   "cell_type": "markdown",
   "id": "46d886cd-82f3-4d62-beb4-d87022dac050",
   "metadata": {},
   "source": [
    "5. What is logging in Python, and why is it important in software development?"
   ]
  },
  {
   "cell_type": "markdown",
   "id": "4249b793-d579-44dc-8b1c-bc2875687959",
   "metadata": {},
   "source": [
    "Ans:\n",
    "    \n",
    "Logging is a way to store information about your script and track events that occur. When writing any complex script in Python, logging is essential for debugging software as you develop it. Without logging, finding the source of a problem in your code may be extremely time consuming."
   ]
  },
  {
   "cell_type": "markdown",
   "id": "64f50c71-fe06-4432-959c-ba08b533949d",
   "metadata": {},
   "source": [
    "6. Explain the purpose of log levels in Python logging and provide examples of when\n",
    "each log level would be appropriate."
   ]
  },
  {
   "cell_type": "markdown",
   "id": "f4ba1508-2646-4fde-8805-d4900e012633",
   "metadata": {},
   "source": [
    "Ans:\n",
    "    \n",
    "Log levels in Python logging allow developers to categorize and prioritize log messages based on their importance or severity. Each log message is associated with a specific log level, indicating its significance in terms of the application's execution.\n",
    "\n",
    "Debug: These are used to give Detailed information, typically of interest only when diagnosing problems.\n",
    "\n",
    "Info: These are used to confirm that things are working as expected.\n",
    "\n",
    "Warning: These are used as an indication that something unexpected happened, or is indicative of some problem in the near future.\n",
    "\n",
    "Error: This tells that due to a more serious problem, the software has not been able to perform some function.\n",
    "\n",
    "Critical: This tells serious error, indicating that the program itself may be unable to continue running."
   ]
  },
  {
   "cell_type": "markdown",
   "id": "d9483553-affc-4e4a-80de-6881d38e4dd5",
   "metadata": {},
   "source": [
    "7. What are log formatters in Python logging, and how can you customise the log\n",
    "message format using formatters?"
   ]
  },
  {
   "cell_type": "markdown",
   "id": "09e627d2-572f-4d7a-8dea-5e7dfffb0bd8",
   "metadata": {},
   "source": [
    "Ans:\n",
    "    \n",
    "Log formatters in Python logging are responsible for specifying the format of log messages generated by the logging module. They define how the log records should be formatted before being outputted to various destinations such as the console, files, or external logging services.\n",
    "The logging module provides a Formatter class that allows customization of the log message format. By creating an instance of the Formatter class and configuring it with the desired format string, developers can define their own log message format."
   ]
  },
  {
   "cell_type": "markdown",
   "id": "6903710a-21fa-4065-be4c-df7132ddf641",
   "metadata": {},
   "source": [
    "8. How can you set up logging to capture log messages from multiple modules or\n",
    "classes in a Python application?"
   ]
  },
  {
   "cell_type": "markdown",
   "id": "d66a1207-0af5-450f-8cf2-89ab754d725b",
   "metadata": {},
   "source": [
    "Ans:\n",
    "    \n",
    "To capture log messages from multiple modules or classes in a Python application, you can set up logging with a common logger that is accessible by all modules and classes. "
   ]
  },
  {
   "cell_type": "markdown",
   "id": "c0f26c97-9efb-4946-b50c-c1de827f2d88",
   "metadata": {},
   "source": [
    "9.What is the difference between the logging and print statements in Python? When\n",
    "should you use logging over print statements in a real-world application?"
   ]
  },
  {
   "cell_type": "markdown",
   "id": "4c60811a-7038-4bc2-bde6-82135a1f3fa6",
   "metadata": {},
   "source": [
    "Ans:\n",
    "while print statements are useful for quick debugging during development, Logging offers more advanced features, configurability, and scalability for managing log messages in real-world applications. It provides a standardized and controlled approach to  capturing and analyzing log data, making it a preferred choice for production environments and long-term application maintenance."
   ]
  },
  {
   "cell_type": "code",
   "execution_count": null,
   "id": "0a650ebf-a4af-4b40-a2b3-61de7d6ab2ec",
   "metadata": {},
   "outputs": [],
   "source": [
    "10. Write a Python program that logs a message to a file named \"app.log\" with the\n",
    "following requirements:\n",
    "● The log message should be \"Hello, World!\"\n",
    "● The log level should be set to \"INFO.\"\n",
    "● The log file should append new log entries without overwriting previous ones."
   ]
  },
  {
   "cell_type": "code",
   "execution_count": 8,
   "id": "6064d4dc-f575-4a0b-a1b8-e337357e0aa2",
   "metadata": {},
   "outputs": [],
   "source": [
    "import logging\n",
    "\n",
    "logging.basicConfig(\n",
    "    level=logging.INFO,\n",
    "    filename=\"app.log\",\n",
    "    filemode=\"a\",\n",
    "    format=\"%(asctime)s - %(levelname)s - %(message)s\"\n",
    ")\n",
    "\n",
    "logging.info(\"Hello, World!\")"
   ]
  },
  {
   "cell_type": "code",
   "execution_count": null,
   "id": "1f74c493-8e0a-46aa-b776-675e08b7c3db",
   "metadata": {},
   "outputs": [],
   "source": [
    "11. Create a Python program that logs an error message to the console and a file named\n",
    "\"errors.log\" if an exception occurs during the program's execution. The error\n",
    "message should include the exception type and a timestamp."
   ]
  },
  {
   "cell_type": "code",
   "execution_count": 9,
   "id": "99656107-023c-4740-91a4-008387c58bea",
   "metadata": {},
   "outputs": [],
   "source": [
    "import logging\n",
    "import datetime\n",
    "\n",
    "# Configure logging\n",
    "logging.basicConfig(\n",
    "    level=logging.ERROR,\n",
    "    format=\"%(asctime)s - %(levelname)s - %(message)s\"\n",
    ")\n",
    "\n",
    "# Create a file handler\n",
    "file_handler = logging.FileHandler(\"errors.log\")\n",
    "file_handler.setLevel(logging.ERROR)\n",
    "\n",
    "# Create a formatter for the file handler\n",
    "formatter = logging.Formatter(\"%(asctime)s - %(levelname)s - %(message)s\")\n",
    "file_handler.setFormatter(formatter)\n",
    "\n",
    "# Add the file handler to the logger\n",
    "logger = logging.getLogger()\n",
    "logger.addHandler(file_handler)\n",
    "\n",
    "try:\n",
    "    # Your code that may raise an exception\n",
    "    # ...\n",
    "    # Simulating an exception\n",
    "    raise ValueError(\"Example exception\")\n",
    "\n",
    "except Exception as e:\n",
    "    # Log the exception\n",
    "    timestamp = datetime.datetime.now().strftime(\"%Y-%m-%d %H:%M:%S\")\n",
    "    error_message = f\"{timestamp} - Exception: {type(e).__name__} - {str(e)}\"\n",
    "    logging.error(error_message)"
   ]
  }
 ],
 "metadata": {
  "kernelspec": {
   "display_name": "Python 3 (ipykernel)",
   "language": "python",
   "name": "python3"
  },
  "language_info": {
   "codemirror_mode": {
    "name": "ipython",
    "version": 3
   },
   "file_extension": ".py",
   "mimetype": "text/x-python",
   "name": "python",
   "nbconvert_exporter": "python",
   "pygments_lexer": "ipython3",
   "version": "3.10.6"
  }
 },
 "nbformat": 4,
 "nbformat_minor": 5
}
