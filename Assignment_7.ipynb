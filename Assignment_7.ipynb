{
 "cells": [
  {
   "cell_type": "markdown",
   "id": "adc26689-b033-4d74-8a95-fa30ef06745f",
   "metadata": {},
   "source": [
    "Q.1. Create two int type variables, apply addition, subtraction, division and multiplications\n",
    "and store the results in variables. Then print the data in the following format by calling the\n",
    "variables:\n",
    "First variable is __ & second variable is __.\n",
    "Addition: __ + __ = __\n",
    "Subtraction: __ - __ = __\n",
    "Multiplication: __ * __ = __\n",
    "Division: __ / __ = __"
   ]
  },
  {
   "cell_type": "code",
   "execution_count": 6,
   "id": "79561ddd-fea6-43cc-aa93-c0a84d5a7980",
   "metadata": {},
   "outputs": [
    {
     "name": "stdout",
     "output_type": "stream",
     "text": [
      "Number 1 is: 20 and Number 2 is: 10\n",
      "----------------------------------------\n",
      "Addition of 20 and 10 is 30\n",
      "Subtraction of 20 and 10 is 10\n",
      "Multiplication of 20 and 10 is 200\n",
      "Division of 20 and 10 is 2.0\n"
     ]
    }
   ],
   "source": [
    "#Ans:\n",
    "n1=20\n",
    "n2=10\n",
    "\n",
    "addition=n1+n2\n",
    "subtraction=n1-n2\n",
    "multiplication=n1*n2\n",
    "division=n1/n2\n",
    "\n",
    "print(\"Number 1 is:\", n1, \"and Number 2 is:\",n2)\n",
    "print('-'*40)\n",
    "print(\"Addition of\", n1, \"and\", n2, \"is\", addition)\n",
    "print(\"Subtraction of\", n1, \"and\", n2, \"is\", subtraction)\n",
    "print(\"Multiplication of\", n1, \"and\", n2, \"is\", multiplication)\n",
    "print(\"Division of\", n1, \"and\", n2, \"is\", division)"
   ]
  },
  {
   "cell_type": "markdown",
   "id": "cfdfb29f-f1fb-470e-9030-87508cfd2ee5",
   "metadata": {},
   "source": [
    "Q.2. What is the difference between the following operators:\n",
    "(i) ‘/’ & ‘//’\n",
    "(ii) ‘**’ & ‘^’"
   ]
  },
  {
   "cell_type": "markdown",
   "id": "fd352242-1c2d-41ca-bf65-1e97afdb9631",
   "metadata": {},
   "source": [
    "(i)The '/' operator is division operation which performs floating point division. It returns the exact quotient of the division operatio, including fractional part.\n",
    "\n",
    "eg: 10/3=3.33333333335\n",
    "\n",
    "The '//' operator performs floor division. It performs division and rounds down the result to the nearest whole number.\n",
    "\n",
    "eg: 10/3=3\n",
    "\n",
    "(ii) '**' performs exponent operation. It raises the left operand to the power of the right operand.\n",
    "\n",
    "eg: 2**3=8\n",
    "\n",
    "'^' is bitwise XOR operator. It compares each bit of the first operand with corresponding bit of second operand. It performs the XOR operation on the binary representation of the operands."
   ]
  },
  {
   "cell_type": "markdown",
   "id": "bde119bd-4ad5-4791-888a-7c14812b0e86",
   "metadata": {},
   "source": [
    "Q.3. List the logical operators."
   ]
  },
  {
   "cell_type": "markdown",
   "id": "7c83536e-82fe-498b-9c0a-6fe855b54a32",
   "metadata": {},
   "source": [
    "Ans:\n",
    "\n",
    "(i)and: Returns True if both operands are True. Otherwise, it returns False.\n",
    "\n",
    "(ii)or: Returns True if atleast one operand is True. Otherwise, it returns False.\n",
    "\n",
    "(iii)not: Returns opposite value of operand. If operand is True, it returns False. If operand is False. it returns True."
   ]
  },
  {
   "cell_type": "markdown",
   "id": "82837d80-cf5a-407f-bf42-5637724b92c4",
   "metadata": {},
   "source": [
    "Q.4. Explain right shift operator and left shift operator with examples."
   ]
  },
  {
   "cell_type": "code",
   "execution_count": 10,
   "id": "254b05a1-0013-493b-8e87-abc28b1d1cbe",
   "metadata": {},
   "outputs": [
    {
     "name": "stdout",
     "output_type": "stream",
     "text": [
      "Right shift operation: 2\n",
      "Left shift operation: 40\n"
     ]
    }
   ],
   "source": [
    "#Ans: Right shift operator and Left shift operators are bitwise operators. They operate on binary representation of numbers.\n",
    "\n",
    "#(i)Right shift operator: Shift the bits of the number to right by the number of bits specified. Each shift to right corresponds to dividing the number by 2.\n",
    "\n",
    "#eg:\n",
    "a=10          \n",
    "result=a>>2\n",
    "print(\"Right shift operation:\",result)\n",
    "\n",
    "#(ii)Left shift operator: Shift the bits of number to left by the number of bits specified. Each shift to left corresponds to multiplying number by 2.\n",
    "\n",
    "#eg:\n",
    "a=10\n",
    "result=a<<2\n",
    "print(\"Left shift operation:\",result)"
   ]
  },
  {
   "cell_type": "markdown",
   "id": "1cd97857-354d-4c74-84d7-9f26f24116e5",
   "metadata": {},
   "source": [
    "Q.5. Create a list containing int type data of length 15. Then write a code to check if 10 is\n",
    "present in the list or not."
   ]
  },
  {
   "cell_type": "code",
   "execution_count": 17,
   "id": "e3744181-e3b9-4eac-8003-1f18940ef678",
   "metadata": {},
   "outputs": [
    {
     "name": "stdout",
     "output_type": "stream",
     "text": [
      "Number is present\n"
     ]
    }
   ],
   "source": [
    "list1=[1,2,3,4,5,6,7,8,9,10,11,12,13,14,15]\n",
    "i=10\n",
    "if i in list1:\n",
    "    print(\"Number is present in cod\")\n",
    "else:\n",
    "    print(\"Number is not present\")"
   ]
  },
  {
   "cell_type": "code",
   "execution_count": null,
   "id": "1d41663b-9863-424c-acc1-b23e9a684b7b",
   "metadata": {},
   "outputs": [],
   "source": []
  }
 ],
 "metadata": {
  "kernelspec": {
   "display_name": "Python 3 (ipykernel)",
   "language": "python",
   "name": "python3"
  },
  "language_info": {
   "codemirror_mode": {
    "name": "ipython",
    "version": 3
   },
   "file_extension": ".py",
   "mimetype": "text/x-python",
   "name": "python",
   "nbconvert_exporter": "python",
   "pygments_lexer": "ipython3",
   "version": "3.10.6"
  }
 },
 "nbformat": 4,
 "nbformat_minor": 5
}
