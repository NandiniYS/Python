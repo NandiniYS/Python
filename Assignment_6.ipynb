{
 "cells": [
  {
   "cell_type": "markdown",
   "id": "38cfc353-7de3-44f9-8f2a-15c88c6aab31",
   "metadata": {},
   "source": [
    "Q.1. What are keywords in python? Using the keyword library, print all the python keywords."
   ]
  },
  {
   "cell_type": "code",
   "execution_count": 3,
   "id": "4db0ff9a-1520-4ce5-8097-b053a4c01d98",
   "metadata": {},
   "outputs": [
    {
     "name": "stdout",
     "output_type": "stream",
     "text": [
      "['False', 'None', 'True', 'and', 'as', 'assert', 'async', 'await', 'break', 'class', 'continue', 'def', 'del', 'elif', 'else', 'except', 'finally', 'for', 'from', 'global', 'if', 'import', 'in', 'is', 'lambda', 'nonlocal', 'not', 'or', 'pass', 'raise', 'return', 'try', 'while', 'with', 'yield']\n"
     ]
    }
   ],
   "source": [
    "#Ans: Keywords are reserved words that cannot be used as a variable names/function name/any other indentifers. Keywords are immutable and case-sensitive.\n",
    "\n",
    "import keyword\n",
    "print(keyword.kwlist)"
   ]
  },
  {
   "cell_type": "markdown",
   "id": "b9193ecf-9e5b-4ba9-b72e-9a3c4c87c50e",
   "metadata": {},
   "source": [
    "Q.2. What are the rules to create variables in python?"
   ]
  },
  {
   "cell_type": "code",
   "execution_count": 4,
   "id": "d10bae8f-1871-4dac-a8b6-3da58aafb0e3",
   "metadata": {},
   "outputs": [],
   "source": [
    "#1.A variable name must start with letter or underscore character.\n",
    "#2.A variable name shouldn't start with number.\n",
    "#3.A variable name cannot have special characters such !,@,#,$ etc. It should have only alpha numeric, digits and underscore.\n",
    "#4.Variable names are case-sensitive.\n",
    "#5.Keywords cannot be used as a variable name"
   ]
  },
  {
   "cell_type": "markdown",
   "id": "d0bc8f81-3b62-4e42-9cfa-d77c8b906863",
   "metadata": {},
   "source": [
    "Q.3. What are the standards and conventions followed for the nomenclature of variables in\n",
    "python to improve code readability and maintainability?"
   ]
  },
  {
   "cell_type": "markdown",
   "id": "9e9758d7-f5d0-4ab4-8e0e-2d2863b8c661",
   "metadata": {},
   "source": [
    "Naming conventions:\n",
    "1.Use Camel case: First letter of a variable is small letter and first letter of concatenated word is capital letter\n",
    "\n",
    "eg: userName\n",
    "\n",
    "2.Pascal Case: Every letter of concatenated word starts with Capital letter\n",
    "\n",
    "eg: UserName\n",
    "\n",
    "3.snake case: _ is used after every concatenated word.\n",
    "\n",
    "eg: user_name\n",
    "\n",
    "4.Kebab case: words are separated with hyphen -.\n",
    "\n",
    "eg: user-name\n",
    "\n",
    "5.Screaming snake case: Screaming Snake Case is similar to Snake Case, but all letters are uppercase. It is mainly used to represent constant variables or global variables that should not be modified.\n",
    "\n",
    "eg: MAX_VALUE\n",
    "\n",
    "6.Hungarian Notation: It involves adding prefixes to variable names to indicate their data type.\n",
    "\n",
    "eg: strUserName\n",
    "\n",
    "Best Practices of variable to improve code readability and maintainability:\n",
    "\n",
    "1.Use grammatically correct variable names.\n",
    "\n",
    "2.Use lower case for variable name.\n",
    "\n",
    "3.Use _ in between of each word when variable names contains two or more words.\n",
    "\n",
    "4.Avoid using keywords\n",
    "\n",
    "5.Use comments if variable name alone is sufficient to understand the use of variable name."
   ]
  },
  {
   "cell_type": "markdown",
   "id": "ba098ed1-3faa-45cf-a232-d84d4840d20e",
   "metadata": {},
   "source": [
    "Q.4. What will happen if a keyword is used as a variable name?"
   ]
  },
  {
   "cell_type": "code",
   "execution_count": 8,
   "id": "3fe0225d-e1af-49aa-a8ef-26cd2f7c2011",
   "metadata": {},
   "outputs": [
    {
     "ename": "SyntaxError",
     "evalue": "invalid syntax (1994029184.py, line 4)",
     "output_type": "error",
     "traceback": [
      "\u001b[0;36m  Cell \u001b[0;32mIn [8], line 4\u001b[0;36m\u001b[0m\n\u001b[0;31m    and=true\u001b[0m\n\u001b[0m    ^\u001b[0m\n\u001b[0;31mSyntaxError\u001b[0m\u001b[0;31m:\u001b[0m invalid syntax\n"
     ]
    }
   ],
   "source": [
    "#Ans: keywords cannot be used a variable name and user has to give the appropriate meaningful name to the variable.\n",
    "#We will get the SyntaxError if we try to use a keyword for a variable name.\n",
    "class Teacher:\n",
    "    and=true"
   ]
  },
  {
   "cell_type": "markdown",
   "id": "292d59ac-7176-4156-9552-32c04c9a68e3",
   "metadata": {},
   "source": [
    "Q.5. For what purpose def keyword is used?"
   ]
  },
  {
   "cell_type": "markdown",
   "id": "45ee0fb5-ba7c-4f3c-ba4f-3fe90331a443",
   "metadata": {},
   "source": [
    "Ans: def keyword is used to define a function. It is placed before function name that is provided by the user to create a user-defined function."
   ]
  },
  {
   "cell_type": "markdown",
   "id": "1262e869-53cf-4830-9b4c-9bbf1b1a290d",
   "metadata": {},
   "source": [
    "Q.6. What is the operation of this special character ‘\\’?"
   ]
  },
  {
   "cell_type": "markdown",
   "id": "1f55347b-a942-498c-85a7-a56a535148b8",
   "metadata": {},
   "source": [
    "Ans: '\\' is a special character also called as escape character. It is used in representing certain whitespace characters: '\\t' represents a tab. '\\n' represents a new line. '\\r' represents a carriage return."
   ]
  },
  {
   "cell_type": "code",
   "execution_count": 11,
   "id": "342e3325-b537-42b3-90f8-a0e92f65e35c",
   "metadata": {},
   "outputs": [
    {
     "name": "stdout",
     "output_type": "stream",
     "text": [
      "Hello\tNandini\n",
      "Hello\n",
      "Nandini\n"
     ]
    }
   ],
   "source": [
    "#eg:\n",
    "print(\"Hello\\tNandini\")\n",
    "print(\"Hello\\nNandini\")"
   ]
  },
  {
   "cell_type": "markdown",
   "id": "0cab5b50-2536-4233-8b48-e0ba732bf68a",
   "metadata": {},
   "source": [
    "Q.7. Give an example of the following conditions:\n",
    "(i) Homogeneous list\n",
    "(ii) Heterogeneous set\n",
    "(iii) Homogeneous tuple"
   ]
  },
  {
   "cell_type": "code",
   "execution_count": 24,
   "id": "63359d2b-fb59-40b9-bb24-0bca2606c8c3",
   "metadata": {},
   "outputs": [
    {
     "name": "stdout",
     "output_type": "stream",
     "text": [
      "Homogeneous list\n",
      "[1, 2, 3, 4]\n",
      "['cat', 'dog']\n",
      "[2.2, 4.5, 7.8]\n",
      "------------------------------\n",
      "Heterogeneous set\n",
      "<class 'set'>\n",
      "{1, 2, 2.2, 'set'}\n",
      "------------------------------\n",
      "Homogeneous tuple\n",
      "<class 'tuple'>\n",
      "(1, 2, 3, 4)\n",
      "('cat', 'dog')\n"
     ]
    }
   ],
   "source": [
    "#Homogeneous list: List contains the items of only same datatype.\n",
    "list1=[1,2,3,4]\n",
    "list2=['cat','dog']\n",
    "list3=[2.2,4.5,7.8]\n",
    "print(\"Homogeneous list\")\n",
    "print(list1)\n",
    "print(list2)\n",
    "print(list3)\n",
    "print('-'*30)\n",
    "\n",
    "#Heterogeneous set: It contains the items of different datatypes in one set unless it is hashable list. It cannot contain unhashable type.\n",
    "set1={1,2,'set',2.2}\n",
    "print(\"Heterogeneous set\")\n",
    "print(type(set1))\n",
    "print(set1)\n",
    "print('-'*30)\n",
    "\n",
    "#Homogeneous set: It contains the items of same datatype.\n",
    "tup1=(1,2,3,4)\n",
    "tup2=(\"cat\",\"dog\")\n",
    "print(\"Homogeneous tuple\")\n",
    "print(type(tup1))\n",
    "print(tup1)\n",
    "print(tup2)"
   ]
  },
  {
   "cell_type": "markdown",
   "id": "19929a26-c5b3-4fdc-b320-69fbe7fcf706",
   "metadata": {},
   "source": [
    "Q.8. Explain the mutable and immutable data types with proper explanation & examples."
   ]
  },
  {
   "cell_type": "code",
   "execution_count": 32,
   "id": "75b88da9-60a8-432b-a4a9-373cc94a5d48",
   "metadata": {},
   "outputs": [
    {
     "name": "stdout",
     "output_type": "stream",
     "text": [
      "Mutable Datatypes\n",
      "[1, 2, 'Dog']\n",
      "[1, 2, 'Dog', 3]\n",
      "[1, 2, 3]\n",
      "--------------------\n",
      "Immutable Datatypes\n",
      "(1, 2, 'Dog')\n"
     ]
    },
    {
     "ename": "AttributeError",
     "evalue": "'tuple' object has no attribute 'remove'",
     "output_type": "error",
     "traceback": [
      "\u001b[0;31m---------------------------------------------------------------------------\u001b[0m",
      "\u001b[0;31mAttributeError\u001b[0m                            Traceback (most recent call last)",
      "Cell \u001b[0;32mIn [32], line 17\u001b[0m\n\u001b[1;32m     15\u001b[0m tup1\u001b[38;5;241m=\u001b[39m(\u001b[38;5;241m1\u001b[39m,\u001b[38;5;241m2\u001b[39m,\u001b[38;5;124m\"\u001b[39m\u001b[38;5;124mDog\u001b[39m\u001b[38;5;124m\"\u001b[39m)\n\u001b[1;32m     16\u001b[0m \u001b[38;5;28mprint\u001b[39m(tup1)\n\u001b[0;32m---> 17\u001b[0m \u001b[43mtup1\u001b[49m\u001b[38;5;241;43m.\u001b[39;49m\u001b[43mremove\u001b[49m(\u001b[38;5;241m3\u001b[39m)\n\u001b[1;32m     18\u001b[0m \u001b[38;5;28mprint\u001b[39m(tup1)\n",
      "\u001b[0;31mAttributeError\u001b[0m: 'tuple' object has no attribute 'remove'"
     ]
    }
   ],
   "source": [
    "#1.Mutable datatypes means the elements can be modified(added, modified, deleted) after they are created.\n",
    "#eg: Lists, Dictionaries, Sets\n",
    "print(\"Mutable Datatypes\")\n",
    "List1=[1,2,\"Dog\"]\n",
    "print(List1)\n",
    "List1.append(3)\n",
    "print(List1)\n",
    "List1.remove(\"Dog\")\n",
    "print(List1)\n",
    "print('-'*20)\n",
    "\n",
    "#2.Immutable datatypes means the elements cannot be added, removed or modified once they are created and we get AttributeError\n",
    "#eg: tuple\n",
    "print(\"Immutable Datatypes\")\n",
    "tup1=(1,2,\"Dog\")\n",
    "print(tup1)\n",
    "tup1.remove(3)\n",
    "print(tup1)"
   ]
  },
  {
   "cell_type": "markdown",
   "id": "4a8ac150-3831-4bdd-8524-6f98e007604a",
   "metadata": {},
   "source": [
    "Q.9. Write a code to create the given structure using only for loop."
   ]
  },
  {
   "cell_type": "code",
   "execution_count": 2,
   "id": "cd11eb03-9458-4f53-a11a-43732c32b3bb",
   "metadata": {},
   "outputs": [
    {
     "name": "stdin",
     "output_type": "stream",
     "text": [
      "Enter the number of rows: 5\n"
     ]
    },
    {
     "name": "stdout",
     "output_type": "stream",
     "text": [
      "    *\n",
      "   ***\n",
      "  *****\n",
      " *******\n",
      "*********\n"
     ]
    }
   ],
   "source": [
    "rows=int(input(\"Enter the number of rows:\"))\n",
    "for i in range(rows):\n",
    "    for j in range(rows-i-1):\n",
    "        print(\" \", end=\"\")\n",
    "    for j in range(2*i+1):\n",
    "        print(\"*\",end=\"\")\n",
    "    print()"
   ]
  },
  {
   "cell_type": "markdown",
   "id": "87223fdb-9d05-48f9-841b-c451baac017f",
   "metadata": {},
   "source": [
    "Q.10. Write a code to create the given structure using while loop."
   ]
  },
  {
   "cell_type": "code",
   "execution_count": 5,
   "id": "9f4921f3-afa6-4854-9b4f-2907003176e2",
   "metadata": {},
   "outputs": [
    {
     "name": "stdin",
     "output_type": "stream",
     "text": [
      "Enter the number of rows: 5\n"
     ]
    },
    {
     "name": "stdout",
     "output_type": "stream",
     "text": [
      "|||||||||\n",
      " |||||||\n",
      "  |||||\n",
      "   |||\n",
      "    |\n"
     ]
    }
   ],
   "source": [
    "n=int(input(\"Enter the number of rows:\"))\n",
    "i=1\n",
    "while(n>0):\n",
    "    b=1\n",
    "    while(b<i):\n",
    "        print(\" \",end=\"\")\n",
    "        b=b+1\n",
    "    j=0\n",
    "    while(j<=(n*2)-2):\n",
    "        print('|',end=\"\")\n",
    "        j=j+1\n",
    "    print()\n",
    "    n=n-1\n",
    "    i=i+1"
   ]
  }
 ],
 "metadata": {
  "kernelspec": {
   "display_name": "Python 3 (ipykernel)",
   "language": "python",
   "name": "python3"
  },
  "language_info": {
   "codemirror_mode": {
    "name": "ipython",
    "version": 3
   },
   "file_extension": ".py",
   "mimetype": "text/x-python",
   "name": "python",
   "nbconvert_exporter": "python",
   "pygments_lexer": "ipython3",
   "version": "3.10.6"
  }
 },
 "nbformat": 4,
 "nbformat_minor": 5
}
