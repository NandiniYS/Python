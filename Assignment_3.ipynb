{
 "cells": [
  {
   "cell_type": "markdown",
   "id": "c92056b5-a443-433b-9176-cb8dff3ba8e2",
   "metadata": {},
   "source": [
    "1.Why are functions advantageous to have in your programs"
   ]
  },
  {
   "cell_type": "raw",
   "id": "144e777f-76c0-44f5-8b19-f6d8d0dbdd1e",
   "metadata": {},
   "source": [
    "Ans:\n",
    "Functions make programs more readable. It allows us to make a larger program into small functions to make the user easy to read and easy to debug.\n",
    "Functions reduce the need of duplicate code. It can be reused when it is required instead of writing same code multiple times."
   ]
  },
  {
   "cell_type": "markdown",
   "id": "b4311d03-c53b-415a-a914-d17d70d407b1",
   "metadata": {},
   "source": [
    "2. When does the code in a function run: when it is specified or when it is called?"
   ]
  },
  {
   "cell_type": "raw",
   "id": "0dcde0e3-07b0-4c07-b854-5af640622e65",
   "metadata": {},
   "source": [
    "Ans: Function in a code will execute when it is called. It will not execute when it is defined."
   ]
  },
  {
   "cell_type": "markdown",
   "id": "74a1df20-8bbf-4cdd-ac37-64c9f4762274",
   "metadata": {},
   "source": [
    "3. What statement creates a function?"
   ]
  },
  {
   "cell_type": "raw",
   "id": "1f60f938-6611-4273-91e0-2eefe467d7de",
   "metadata": {},
   "source": [
    "Ans: def defines a function\n",
    "Syntax: def FunctionName:"
   ]
  },
  {
   "cell_type": "markdown",
   "id": "5d5f9b8d-f0c3-4e39-bda9-8f5772e37383",
   "metadata": {},
   "source": [
    "4. What is the difference between a function and a function call?"
   ]
  },
  {
   "cell_type": "raw",
   "id": "eb026dec-f68a-4fe8-9437-6c4908d23319",
   "metadata": {},
   "source": [
    "Ans:\n",
    "Function is a block of code where it is defined, performs a specific task and returns the result when the function is called.\n",
    "Function call is calling and executing the function where the function is already defined by providing the values of parameters defined in function."
   ]
  },
  {
   "cell_type": "markdown",
   "id": "365582ab-110a-4b49-8f46-723ff35b5b9d",
   "metadata": {},
   "source": [
    "5. How many global scopes are there in a Python program? How many local scopes?"
   ]
  },
  {
   "cell_type": "raw",
   "id": "3193d41d-4d48-46bf-ad7d-e327957e4168",
   "metadata": {},
   "source": [
    "Ans:\n",
    "One global scope and local scope is created whenever the function is created."
   ]
  },
  {
   "cell_type": "markdown",
   "id": "899390d8-1773-4f8e-b390-e0e70004ee8d",
   "metadata": {},
   "source": [
    "6. What happens to variables in a local scope when the function call returns?"
   ]
  },
  {
   "cell_type": "raw",
   "id": "dc3b0cd2-c420-4042-8617-abd52beb8857",
   "metadata": {},
   "source": [
    "Ans: \n",
    "When the execution of the function call returns, the local variables are destroyed and all its variables are deleted."
   ]
  },
  {
   "cell_type": "markdown",
   "id": "1f38559b-3409-45bf-92d5-b04acb9750f5",
   "metadata": {},
   "source": [
    "7. What is the concept of a return value? Is it possible to have a return value in an expression?"
   ]
  },
  {
   "cell_type": "raw",
   "id": "bba87909-d2f6-4b4e-8692-b71e34bce93b",
   "metadata": {},
   "source": [
    "Ans: \n",
    "When the execution of the function call returns, the local variables are destroyed and all its variables are deleted."
   ]
  },
  {
   "cell_type": "markdown",
   "id": "f2370087-6521-4cf9-bef8-797a5be7e739",
   "metadata": {},
   "source": [
    "8. If a function does not have a return statement, what is the return value of a call to that function?"
   ]
  },
  {
   "cell_type": "raw",
   "id": "ce9c415a-a32f-4ec1-919d-395b5811de04",
   "metadata": {},
   "source": [
    "If a function does not have a return statement, it returns value \"None\"."
   ]
  },
  {
   "cell_type": "markdown",
   "id": "43926dbc-1580-4ade-8e31-238541b5b83f",
   "metadata": {},
   "source": [
    "9. How do you make a function variable refer to the global variable?"
   ]
  },
  {
   "cell_type": "raw",
   "id": "48e72b8e-9b4c-4247-a680-02eb744a5d06",
   "metadata": {},
   "source": [
    "Ans: \n",
    "To make a function variable as a global variable, we can use the global keyword to declare which variables are global."
   ]
  },
  {
   "cell_type": "markdown",
   "id": "8e3f4dc2-4eb0-44f9-9e87-345c7c78b6c9",
   "metadata": {},
   "source": [
    "10. What is the data type of None?"
   ]
  },
  {
   "cell_type": "raw",
   "id": "9a7f437f-60a3-4d51-a6bf-d478e0c90bae",
   "metadata": {},
   "source": [
    "Ans:\n",
    "None is a datatype of NoneType."
   ]
  },
  {
   "cell_type": "markdown",
   "id": "25cc61ff-5219-4755-8fe3-b6fa863d1160",
   "metadata": {},
   "source": [
    "11. What does the sentence import areallyourpetsnamederic do?"
   ]
  },
  {
   "cell_type": "raw",
   "id": "31c9f6f8-dcf7-4c8e-a239-e2af314a0f1c",
   "metadata": {},
   "source": [
    "Ans:\n",
    "Import statement imports a module named areallyourpetsnamederic"
   ]
  },
  {
   "cell_type": "markdown",
   "id": "e2740873-090e-4082-bd41-ecfbe61cfa6b",
   "metadata": {},
   "source": [
    "12. If you had a bacon() feature in a spam module, what would you call it after importing spam?"
   ]
  },
  {
   "cell_type": "raw",
   "id": "673d30d5-e268-47e3-b32e-b25c9f206c83",
   "metadata": {},
   "source": [
    "Ans:\n",
    "import spam\n",
    "spam.bacon()"
   ]
  },
  {
   "cell_type": "markdown",
   "id": "e2069cb6-a0cd-4dae-a25a-157d145f872d",
   "metadata": {},
   "source": [
    "13. What can you do to save a programme from crashing if it encounters an error?"
   ]
  },
  {
   "cell_type": "raw",
   "id": "5f330a19-3ca5-46c1-9f90-688392980509",
   "metadata": {},
   "source": [
    "Ans: \n",
    "We can use try except class to save program from crashing."
   ]
  },
  {
   "cell_type": "markdown",
   "id": "b9ee5e72-ca35-407b-92d0-7bcfb35633af",
   "metadata": {},
   "source": [
    "14.\tWhat is the purpose of the try clause? What is the purpose of the except clause?"
   ]
  },
  {
   "cell_type": "markdown",
   "id": "c79cc21c-43ee-4e00-8545-874a356b02ce",
   "metadata": {},
   "source": [
    "try clause contains the code that can raise an error and it executes when there is no error in the program.\n",
    "except clause contains the code that handle the error(if any exception occurs in try, then it will come to except block to execute the error).\n"
   ]
  },
  {
   "cell_type": "code",
   "execution_count": null,
   "id": "cd31d275-6a6f-4d95-8cb5-bc4fa80dbb74",
   "metadata": {},
   "outputs": [],
   "source": []
  }
 ],
 "metadata": {
  "kernelspec": {
   "display_name": "Python 3 (ipykernel)",
   "language": "python",
   "name": "python3"
  },
  "language_info": {
   "codemirror_mode": {
    "name": "ipython",
    "version": 3
   },
   "file_extension": ".py",
   "mimetype": "text/x-python",
   "name": "python",
   "nbconvert_exporter": "python",
   "pygments_lexer": "ipython3",
   "version": "3.10.6"
  }
 },
 "nbformat": 4,
 "nbformat_minor": 5
}
