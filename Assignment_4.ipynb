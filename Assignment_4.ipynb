{
 "cells": [
  {
   "cell_type": "markdown",
   "id": "2eaa1abb-391d-4335-a446-ae421dd69ced",
   "metadata": {},
   "source": [
    "1. What exactly is []?"
   ]
  },
  {
   "cell_type": "code",
   "execution_count": 1,
   "id": "874a0123-db3a-4a6e-a0cb-36459f72a921",
   "metadata": {},
   "outputs": [],
   "source": [
    "#Ans: [] refers to empty list that contains no items in list."
   ]
  },
  {
   "cell_type": "markdown",
   "id": "849b9d9b-4437-4017-8dfc-eb79b9e3de6f",
   "metadata": {},
   "source": [
    "2. In a list of values stored in a variable called spam, how would you assign the value &#39;hello&#39; as the\n",
    "third value? (Assume [2, 4, 6, 8, 10] are in spam.)"
   ]
  },
  {
   "cell_type": "code",
   "execution_count": 2,
   "id": "2bbe5aae-929f-4466-9340-e5512a61a13e",
   "metadata": {},
   "outputs": [
    {
     "name": "stdout",
     "output_type": "stream",
     "text": [
      "[2, 4, 6, 8, 10]\n",
      "[2, 4, 'hello', 8, 10]\n"
     ]
    }
   ],
   "source": [
    "spam=[2,4,6,8,10]\n",
    "print(spam)\n",
    "spam[2]='hello'\n",
    "print(spam)"
   ]
  },
  {
   "cell_type": "markdown",
   "id": "47f5c29a-ea4a-430a-a308-569ac09397fe",
   "metadata": {},
   "source": [
    "Lets pretend the spam includes the list ['a','b','c','d'] for the next three queries."
   ]
  },
  {
   "cell_type": "markdown",
   "id": "22e56b12-9986-4b0e-ac33-7f209a3983be",
   "metadata": {},
   "source": [
    "3. What is the value of spam[int(int(&#39;3&#39; * 2) / 11)]?"
   ]
  },
  {
   "cell_type": "code",
   "execution_count": 7,
   "id": "2618c53c-1f9c-42cd-b92a-fbcbdeca1170",
   "metadata": {},
   "outputs": [
    {
     "name": "stdout",
     "output_type": "stream",
     "text": [
      "['a', 'b', 'c', 'd']\n"
     ]
    },
    {
     "data": {
      "text/plain": [
       "'d'"
      ]
     },
     "execution_count": 7,
     "metadata": {},
     "output_type": "execute_result"
    }
   ],
   "source": [
    "#Value of spam[int('3'*2)/11)]\n",
    "\n",
    "spam=['a','b','c','d']\n",
    "print(spam)\n",
    "spam[int(int('3'*2)/11)]"
   ]
  },
  {
   "cell_type": "markdown",
   "id": "6e87475b-0e43-409c-b3d0-e120571bb196",
   "metadata": {},
   "source": [
    "4. What is the value of spam[-1]?"
   ]
  },
  {
   "cell_type": "code",
   "execution_count": 8,
   "id": "d1b928b0-ccc7-4a4a-9e62-088b44b5a010",
   "metadata": {},
   "outputs": [
    {
     "data": {
      "text/plain": [
       "'d'"
      ]
     },
     "execution_count": 8,
     "metadata": {},
     "output_type": "execute_result"
    }
   ],
   "source": [
    "#Value of spam[-1] is 'd'. \n",
    "\n",
    "spam=['a','b','c','d']\n",
    "spam[-1]"
   ]
  },
  {
   "cell_type": "markdown",
   "id": "fb5b63de-1bf9-46ad-a224-5e05ab35e03e",
   "metadata": {},
   "source": [
    "5. What is the value of spam[:2]?"
   ]
  },
  {
   "cell_type": "code",
   "execution_count": 9,
   "id": "c7575b9f-1f35-4cf0-94de-2bf2c55733a7",
   "metadata": {},
   "outputs": [
    {
     "data": {
      "text/plain": [
       "['a', 'b']"
      ]
     },
     "execution_count": 9,
     "metadata": {},
     "output_type": "execute_result"
    }
   ],
   "source": [
    "#Value of spam[:2] is ['a','b']\n",
    "\n",
    "spam=['a','b','c','d']\n",
    "spam[:2]"
   ]
  },
  {
   "cell_type": "markdown",
   "id": "e1c9886b-e9e2-412a-8ae6-d536edc2f9dd",
   "metadata": {},
   "source": [
    "Lets pretend bacon has the list [3.14, 'cat' , '11', 'cat', True] for the next three questions."
   ]
  },
  {
   "cell_type": "markdown",
   "id": "e9322502-50bd-4ed9-b6f9-998154f30de3",
   "metadata": {},
   "source": [
    "6. What is the value of bacon.index(&#39;cat&#39;)?"
   ]
  },
  {
   "cell_type": "code",
   "execution_count": 10,
   "id": "bff5ea7d-fcd8-4a54-a50e-68b5eaa2fd85",
   "metadata": {},
   "outputs": [
    {
     "data": {
      "text/plain": [
       "1"
      ]
     },
     "execution_count": 10,
     "metadata": {},
     "output_type": "execute_result"
    }
   ],
   "source": [
    "#Value of bacon.index('cat') is 1 as it returns the index of first item of cat\n",
    "\n",
    "bacon=[3.14, 'cat', '11', 'cat', True]\n",
    "bacon.index('cat')"
   ]
  },
  {
   "cell_type": "markdown",
   "id": "7f865bdd-1f3a-4055-be0e-618d594d9f1f",
   "metadata": {},
   "source": [
    "7. How does bacon.append(99) change the look of the list value in bacon?"
   ]
  },
  {
   "cell_type": "code",
   "execution_count": 15,
   "id": "5fbf594f-c347-43d3-8855-6a0059a9312c",
   "metadata": {},
   "outputs": [
    {
     "name": "stdout",
     "output_type": "stream",
     "text": [
      "First list is: [3.14, 'cat', '11', 'cat', True]\n",
      "List after appending [3.14, 'cat', '11', 'cat', True, 99]\n"
     ]
    }
   ],
   "source": [
    "#append adds the new element at end of list. Hence 99 will be added at the end of list\n",
    "\n",
    "bacon=[3.14, 'cat', '11', 'cat', True]\n",
    "print(\"First list is:\", bacon)\n",
    "bacon.append(99)\n",
    "print(\"List after appending\", bacon)"
   ]
  },
  {
   "cell_type": "markdown",
   "id": "29ca39ec-47e2-4c5b-bfe2-5653b0c073cf",
   "metadata": {},
   "source": [
    "8. How does bacon.remove('cat') change the look of the list in bacon?"
   ]
  },
  {
   "cell_type": "code",
   "execution_count": 16,
   "id": "0f6fb524-3ea9-48f9-a796-7a601d68a0a7",
   "metadata": {},
   "outputs": [
    {
     "name": "stdout",
     "output_type": "stream",
     "text": [
      "First list is: [3.14, 'cat', '11', 'cat', True]\n",
      "List after removing cat: [3.14, '11', 'cat', True]\n"
     ]
    }
   ],
   "source": [
    "#remove('cat') removes the first occurrence of cat item in the list\n",
    "\n",
    "bacon=[3.14, 'cat', '11', 'cat', True]\n",
    "print(\"First list is:\", bacon)\n",
    "bacon.remove('cat')\n",
    "print(\"List after removing cat:\", bacon)"
   ]
  },
  {
   "cell_type": "markdown",
   "id": "b9cdf1b3-2958-41e7-aa7a-804ffc207b41",
   "metadata": {},
   "source": [
    "9. What are the list concatenation and list replication operators?"
   ]
  },
  {
   "cell_type": "code",
   "execution_count": 1,
   "id": "a34bcb08-af0f-486d-94ce-bd8a23a2a650",
   "metadata": {},
   "outputs": [
    {
     "name": "stdout",
     "output_type": "stream",
     "text": [
      "['a', 'b', 'c', 'd', '1', '2', '3', '4']\n",
      "['1', '2', '3', '4', '1', '2', '3', '4', '1', '2', '3', '4']\n"
     ]
    }
   ],
   "source": [
    "#We use '+' operator for list concatenation and '*' operator for list replication.\n",
    "\n",
    "list1=['a','b','c','d']\n",
    "list2=['1','2','3','4']\n",
    "print(list1+list2)\n",
    "print(list2*3)"
   ]
  },
  {
   "cell_type": "markdown",
   "id": "f5766149-46e2-4860-abd8-7fd426cf50a0",
   "metadata": {},
   "source": [
    "10. What is difference between the list methods append() and insert()?"
   ]
  },
  {
   "cell_type": "code",
   "execution_count": 4,
   "id": "c1d1ac46-37a3-4cc7-b066-74017aac7df9",
   "metadata": {},
   "outputs": [
    {
     "name": "stdout",
     "output_type": "stream",
     "text": [
      "['a', 'b', 'c', 'd']\n",
      "['1', '4', '2', '3']\n"
     ]
    }
   ],
   "source": [
    "#append() adds the item to the end of list.\n",
    "#insert() adds the item to anywhere in list.\n",
    "\n",
    "list1=['a','b','c']\n",
    "list1.append('d')\n",
    "print(list1)\n",
    "list2=['1','2','3']\n",
    "list2.insert(1,'4')\n",
    "print(list2)"
   ]
  },
  {
   "cell_type": "markdown",
   "id": "d00e88a0-95dd-40b3-aa24-873aa9454e34",
   "metadata": {},
   "source": [
    "11. What are the two methods for removing items from a list?"
   ]
  },
  {
   "cell_type": "markdown",
   "id": "9abfc3ad-229c-4f64-ade7-4288c7755c26",
   "metadata": {},
   "source": [
    "del and remove() are the two methods for removing items from a list."
   ]
  },
  {
   "cell_type": "markdown",
   "id": "a45ae725-08c3-4d06-99b5-db861541331b",
   "metadata": {},
   "source": [
    "12. Describe how list values and string values are identical."
   ]
  },
  {
   "cell_type": "markdown",
   "id": "229b27b2-2d3b-4ab2-8b9e-74e34c0ef6d2",
   "metadata": {},
   "source": [
    "Lists are similar to strings as they are ordered collection of characters.\n",
    "lists and strings can be passed to len() function. Have indexes and slicing, can be concatenated or replicated."
   ]
  },
  {
   "cell_type": "markdown",
   "id": "ca99b5ae-8762-41a3-b628-fe2cbf34700b",
   "metadata": {},
   "source": [
    "13. What&#39;s the difference between tuples and lists?"
   ]
  },
  {
   "cell_type": "markdown",
   "id": "58c02bdf-0a0c-405a-a3be-d8ba6fbeafe8",
   "metadata": {},
   "source": [
    "Lists are Mutable, Indexable and slicable. Values can be added, removed and modified. lists use [].\n",
    "Tuples are Immutable, Indexable and slicable. Values cannot be modified. tuples use ()"
   ]
  },
  {
   "cell_type": "markdown",
   "id": "8859cd00-7a5d-49e8-abee-0d50749edbd8",
   "metadata": {},
   "source": [
    "14. How do you type a tuple value that only contains the integer 42?"
   ]
  },
  {
   "cell_type": "code",
   "execution_count": 8,
   "id": "012935a6-cbca-4e46-a718-e7c667f293e6",
   "metadata": {},
   "outputs": [
    {
     "name": "stdout",
     "output_type": "stream",
     "text": [
      "<class 'tuple'>\n"
     ]
    }
   ],
   "source": [
    "#tup=(42,)\n",
    "\n",
    "tup=(42,)\n",
    "print(type(tup))"
   ]
  },
  {
   "cell_type": "markdown",
   "id": "b905b888-6dc0-4168-b73f-9cd08ee691c6",
   "metadata": {},
   "source": [
    "15. How do you get a list value&#39;s tuple form? How do you get a tuple value&#39;s list form?"
   ]
  },
  {
   "cell_type": "code",
   "execution_count": 12,
   "id": "574f90e6-9af9-4fd4-9b33-1a69ad186185",
   "metadata": {},
   "outputs": [
    {
     "name": "stdout",
     "output_type": "stream",
     "text": [
      "<class 'tuple'>\n",
      "<class 'list'>\n"
     ]
    }
   ],
   "source": [
    "#tuple(), list() functions are used to convert a list to tuple and a tuple to list.\n",
    "#eg\n",
    "list1=['1','2','3']\n",
    "tuplist=tuple(list1)\n",
    "print(type(tuplist))\n",
    "\n",
    "tuple1=('1','2','3')\n",
    "listtup=list(tuple1)\n",
    "print(type(listtup))"
   ]
  },
  {
   "cell_type": "markdown",
   "id": "d2ad0cfb-6196-4fd6-8ba9-2aad4f01b0ca",
   "metadata": {},
   "source": [
    "16. Variables that &quot;contain&quot; list values are not necessarily lists themselves. Instead, what do they\n",
    "contain?"
   ]
  },
  {
   "cell_type": "markdown",
   "id": "757d7dce-04ec-4604-8ccb-8622fe046046",
   "metadata": {},
   "source": [
    "They contain reference to list values"
   ]
  },
  {
   "cell_type": "markdown",
   "id": "72116830-4dee-4b02-b93e-705481ea979b",
   "metadata": {},
   "source": [
    "17. How do you distinguish between copy.copy() and copy.deepcopy()?"
   ]
  },
  {
   "cell_type": "code",
   "execution_count": null,
   "id": "5b3ae26e-60c5-4438-b4e7-4522b42d9399",
   "metadata": {},
   "outputs": [],
   "source": [
    "copy.copy() returns a shallow copy of the list. copy.deepcopy() returns a deep copy of the list"
   ]
  }
 ],
 "metadata": {
  "kernelspec": {
   "display_name": "Python 3 (ipykernel)",
   "language": "python",
   "name": "python3"
  },
  "language_info": {
   "codemirror_mode": {
    "name": "ipython",
    "version": 3
   },
   "file_extension": ".py",
   "mimetype": "text/x-python",
   "name": "python",
   "nbconvert_exporter": "python",
   "pygments_lexer": "ipython3",
   "version": "3.10.6"
  }
 },
 "nbformat": 4,
 "nbformat_minor": 5
}
