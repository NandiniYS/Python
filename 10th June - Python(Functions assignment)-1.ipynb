{
 "cells": [
  {
   "cell_type": "markdown",
   "id": "e4549150-31ac-47f9-ad61-3d3282cc675d",
   "metadata": {},
   "source": [
    "1. In Python, what is the difference between a built-in function and a user-defined function? Provide an\n",
    "example of each."
   ]
  },
  {
   "cell_type": "markdown",
   "id": "ad857efd-251b-4e30-9b0e-3a3d018ec253",
   "metadata": {},
   "source": [
    "Ans:\n",
    "\n",
    "1)Built-in function is a function which are already defined in python. It is provided as part of Python standard library.\n",
    "\n",
    "2)User-defined functions is a function that is defined by users to perform certain operations or set of tasks. User defined functions are defined by def keyword."
   ]
  },
  {
   "cell_type": "code",
   "execution_count": 1,
   "id": "db42824a-8895-4182-820f-b4c13bff36bd",
   "metadata": {},
   "outputs": [
    {
     "name": "stdout",
     "output_type": "stream",
     "text": [
      "Hello\n",
      "Hello Nandini\n"
     ]
    }
   ],
   "source": [
    "#example of built-in function\n",
    "print(\"Hello\")\n",
    "\n",
    "#example of user-defined function\n",
    "def myFunc(name):\n",
    "    print(\"Hello\", name)\n",
    "    \n",
    "myFunc(\"Nandini\")    "
   ]
  },
  {
   "cell_type": "markdown",
   "id": "30e04f97-d6e7-4718-bd14-b8a44caae991",
   "metadata": {},
   "source": [
    "2. How can you pass arguments to a function in Python? Explain the difference between positional\n",
    "arguments and keyword arguments."
   ]
  },
  {
   "cell_type": "markdown",
   "id": "5434a5a0-4c02-4251-ba05-38ecaae4c556",
   "metadata": {},
   "source": [
    "Ans:\n",
    "\n",
    "1. Positional arguments are arguments that need to be included in the proper position or order.\n",
    "\n",
    "2. A keyword argument is an argument passed to a function or method which is preceded by a keyword and an equals sign."
   ]
  },
  {
   "cell_type": "code",
   "execution_count": 6,
   "id": "58624722-4ea2-4192-b262-b4b0691b4e18",
   "metadata": {},
   "outputs": [
    {
     "name": "stdout",
     "output_type": "stream",
     "text": [
      "Sum of two numbers 7\n",
      "Name Nandini\n",
      "Age 25\n"
     ]
    }
   ],
   "source": [
    "#example of positional arguments:\n",
    "def Positional_Argument(n1,n2):\n",
    "    result=n1+n2\n",
    "    print(\"Sum of two numbers\", result)\n",
    "    \n",
    "Positional_Argument(5,2)\n",
    "\n",
    "#example of keyword arguments:\n",
    "def Keyword_Argument(name, age):\n",
    "    print(\"Name\", name)\n",
    "    print(\"Age\", age)\n",
    "    \n",
    "Keyword_Argument(age=25, name=\"Nandini\")"
   ]
  },
  {
   "cell_type": "markdown",
   "id": "c1c980c4-6e27-4998-a8dd-9fe171e1bc48",
   "metadata": {},
   "source": [
    "3. What is the purpose of the return statement in a function? Can a function have multiple return\n",
    "statements? Explain with an example."
   ]
  },
  {
   "cell_type": "markdown",
   "id": "7e77eddf-e2d5-40bb-a8a1-b54973209f65",
   "metadata": {},
   "source": [
    "Ans: \n",
    "    \n",
    "The python return statement is used to return the output from a function. It also ends the processing of the current function and returns control to the caller of the function.\n",
    "\n",
    "A function can have multiple return statements but it executes only once return statement. Once return is executed, it terminates the program and returns control to caller of the function."
   ]
  },
  {
   "cell_type": "code",
   "execution_count": 11,
   "id": "5fc5938b-7b0a-42e2-b08b-6c35838849d1",
   "metadata": {},
   "outputs": [
    {
     "name": "stdout",
     "output_type": "stream",
     "text": [
      "The sum of two numbers: 8\n"
     ]
    }
   ],
   "source": [
    "#example of multiple return statements\n",
    "\n",
    "def add_num(num1,num2):\n",
    "    sum=num1+num2\n",
    "    return sum\n",
    "    return \"num1 & num2 is\", sum  #it is not executed as above return statement is executed and the program is terminated.\n",
    "\n",
    "result=add_num(5,3)\n",
    "print(\"The sum of two numbers:\", result)"
   ]
  },
  {
   "cell_type": "markdown",
   "id": "8d0a87da-9ed7-471d-afd0-010982b9f010",
   "metadata": {},
   "source": [
    "4. What are lambda functions in Python? How are they different from regular functions? Provide an\n",
    "example where a lambda function can be useful."
   ]
  },
  {
   "cell_type": "markdown",
   "id": "825bab5e-721b-4d5d-9136-fcd325e9cf93",
   "metadata": {},
   "source": [
    "Ans:\n",
    "    \n",
    "lambda functions is a small anonymous function. It can take any number of arguments, but can have only one expression and it is defined by a keyword lambda."
   ]
  },
  {
   "cell_type": "code",
   "execution_count": 12,
   "id": "5287f2f4-bb5f-44f8-908a-c73c3bd90358",
   "metadata": {},
   "outputs": [
    {
     "name": "stdout",
     "output_type": "stream",
     "text": [
      "even\n"
     ]
    }
   ],
   "source": [
    "#example of lambda function\n",
    "even_or_odd=lambda x:'even' if x%2==0 else 'odd'\n",
    "print(even_or_odd(12))"
   ]
  },
  {
   "cell_type": "markdown",
   "id": "b64fe5cc-a29f-4c30-9268-83d95f865df9",
   "metadata": {},
   "source": [
    "5. How does the concept of \"scope\" apply to functions in Python? Explain the difference between local\n",
    "scope and global scope."
   ]
  },
  {
   "cell_type": "markdown",
   "id": "1fec199a-7063-41a9-91a8-000747602fb9",
   "metadata": {},
   "source": [
    "Ans:\n",
    "    \n",
    "The concept of \"scope\" in Python determines the visibility and accessibility of variables within different parts of the code.\n",
    "\n",
    "1.local scope: A variable created inside a function belongs to the local scope of that function, and can only be used inside that function. local variable is destroyed once the function execution is completed.\n",
    "\n",
    "2.global scope: A variable created in the main body of the Python code is a global variable and belongs to the global scope. Global variables are available from within any scope. global variables remains in memory throughout the execution."
   ]
  },
  {
   "cell_type": "markdown",
   "id": "08b17bc9-f011-469b-b755-81ca7365a3c0",
   "metadata": {},
   "source": [
    "6.How can you use the \"return\" statement in a Python function to return multiple values?"
   ]
  },
  {
   "cell_type": "markdown",
   "id": "6c19bed9-3f30-45c6-8e38-3a8e3674fe5f",
   "metadata": {},
   "source": [
    "Ans:\n",
    "We can use return statements to return multiple values by separating each value with a comma."
   ]
  },
  {
   "cell_type": "code",
   "execution_count": 1,
   "id": "9418b4f9-4d35-4591-8c13-f8c0141cd059",
   "metadata": {},
   "outputs": [
    {
     "data": {
      "text/plain": [
       "('Nandini', 24)"
      ]
     },
     "execution_count": 1,
     "metadata": {},
     "output_type": "execute_result"
    }
   ],
   "source": [
    "#example of multiple return statements:\n",
    "def PersonDetails():\n",
    "    name=\"Nandini\"\n",
    "    age=24\n",
    "    return name, age\n",
    "\n",
    "PersonDetails()"
   ]
  },
  {
   "cell_type": "markdown",
   "id": "72cce582-e7de-4a26-832c-36000971429e",
   "metadata": {},
   "source": [
    "7. What is the difference between the \"pass by value\" and \"pass by reference\" concepts when it\n",
    "comes to function arguments in Python?"
   ]
  },
  {
   "cell_type": "markdown",
   "id": "5191bc63-7e23-494f-b102-2c9c79a3ba9e",
   "metadata": {},
   "source": [
    "Ans:\n",
    "\n",
    "pass by value means that the  value is directly passed as the value to the argument of the function. Here, the operation is done on the value and then the value is stored at the address. Pass by value is used for a copy of the variable.\n",
    "\n",
    "pass by reference means that the values to the argument of the function are passed by reference which means that the address of the variable is passed and then the operation is done on the value stored at these addresses."
   ]
  },
  {
   "cell_type": "markdown",
   "id": "451c4116-9480-4c5f-996e-2e024de83d48",
   "metadata": {},
   "source": [
    "8. Create a function that can intake integer or decimal value and do following operations:\n",
    "a. Logarithmic function (log x)\n",
    "b. Exponential function (exp(x))\n",
    "c. Power function with base 2 (2x)\n",
    "d. Square root"
   ]
  },
  {
   "cell_type": "code",
   "execution_count": 4,
   "id": "515e1809-2e05-419d-a2be-8cc8778831f8",
   "metadata": {},
   "outputs": [
    {
     "name": "stdout",
     "output_type": "stream",
     "text": [
      "{'Logarithm value': 2.995732273553991, 'Exponential value': 485165195.4097903, 'Power value': 1048576.0, 'Square root': 4.47213595499958}\n"
     ]
    }
   ],
   "source": [
    "import math\n",
    "def MathOperations(x):\n",
    "    logarithm = math.log(x)\n",
    "    exponential = math.exp(x)\n",
    "    power_function = math.pow(2,x)\n",
    "    square_root = math.sqrt(x)\n",
    "    return {\n",
    "        \"Logarithm value\": logarithm,\n",
    "        \"Exponential value\": exponential,\n",
    "        \"Power value\": power_function,\n",
    "        \"Square root\": square_root\n",
    "    }\n",
    "\n",
    "result=MathOperations(20)\n",
    "print(result)"
   ]
  },
  {
   "cell_type": "markdown",
   "id": "22699969-585a-48c7-bbd6-ceb7cf5f959b",
   "metadata": {},
   "source": [
    "9. Create a function that takes a full name as an argument and returns first name and last name."
   ]
  },
  {
   "cell_type": "code",
   "execution_count": 7,
   "id": "ac01d431-785c-40f3-801d-b863274a070f",
   "metadata": {},
   "outputs": [
    {
     "name": "stdout",
     "output_type": "stream",
     "text": [
      "First Name is: Nandini and Last Name is: S\n"
     ]
    }
   ],
   "source": [
    "def full_name(full_name):\n",
    "    Name = full_name.split()  \n",
    "    first_name = Name[0]  \n",
    "    last_name = Name[-1]  \n",
    "    \n",
    "    return first_name, last_name\n",
    "\n",
    "name = \"Nandini Y S\"\n",
    "firstname, lastname = full_name(name)\n",
    "print(\"First Name is:\", firstname, \"and Last Name is:\", lastname)"
   ]
  }
 ],
 "metadata": {
  "kernelspec": {
   "display_name": "Python 3 (ipykernel)",
   "language": "python",
   "name": "python3"
  },
  "language_info": {
   "codemirror_mode": {
    "name": "ipython",
    "version": 3
   },
   "file_extension": ".py",
   "mimetype": "text/x-python",
   "name": "python",
   "nbconvert_exporter": "python",
   "pygments_lexer": "ipython3",
   "version": "3.10.6"
  }
 },
 "nbformat": 4,
 "nbformat_minor": 5
}
