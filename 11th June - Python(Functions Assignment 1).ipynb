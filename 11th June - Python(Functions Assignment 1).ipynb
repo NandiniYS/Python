{
 "cells": [
  {
   "cell_type": "markdown",
   "id": "69c18f03-2092-436a-acb1-9e8c74c2800c",
   "metadata": {},
   "source": [
    "1. What is a lambda function in Python, and how does it differ from a regular function?"
   ]
  },
  {
   "cell_type": "markdown",
   "id": "3706da0b-fc36-4ba7-a405-94756c053276",
   "metadata": {},
   "source": [
    "Ans:\n",
    "    \n",
    "Python Lambda Functions are anonymous function means that the function is without a name. Lambda helps user to use a function only once, and hence, avoids cluttering up the code with function definitions. \n",
    "\n",
    "Unlike regular functions, lambda functions do not require the \"def\" keyword, a return statement, or a name."
   ]
  },
  {
   "cell_type": "markdown",
   "id": "bda57ad3-5c6f-4844-aff4-e4edffe0b153",
   "metadata": {},
   "source": [
    "2. Can a lambda function in Python have multiple arguments? If yes, how can you define and use\n",
    "them?"
   ]
  },
  {
   "cell_type": "markdown",
   "id": "29c41357-5f81-4b1e-a028-0bfdb08a5165",
   "metadata": {},
   "source": [
    "Ans:\n",
    "    \n",
    "A lambda function in Python can have multiple arguments. We can define and use multiple arguments in a lambda function by separating them with commas within the argument list.\n",
    "\n",
    "Eg: \n",
    "add = lambda x, y, z: x + y +z"
   ]
  },
  {
   "cell_type": "markdown",
   "id": "cc64a408-66ef-43d5-a762-63d789f1b9a5",
   "metadata": {},
   "source": [
    "3. How are lambda functions typically used in Python? Provide an example use case."
   ]
  },
  {
   "cell_type": "markdown",
   "id": "c99281f6-eda3-4df7-89fe-23c62106396f",
   "metadata": {},
   "source": [
    "Lambda functions are typically used as arguments to higher-order functions like map(), filter(), or sorted(), where a function is required as an argument. They are also commonly used for simple and concise operations or in situations where a small, throwaway function is needed."
   ]
  },
  {
   "cell_type": "code",
   "execution_count": 3,
   "id": "8ccf81b3-e7f3-4a4f-b665-b489fe6b3da8",
   "metadata": {},
   "outputs": [
    {
     "name": "stdout",
     "output_type": "stream",
     "text": [
      "Original: [2, 4, 1, 6, 3]\n",
      "Sorted: [1, 2, 3, 4, 6]\n"
     ]
    }
   ],
   "source": [
    "numbers = [2, 4, 1, 6, 3]\n",
    "print(\"Original:\",numbers)\n",
    "\n",
    "# Using sort() with lambda\n",
    "numbers.sort(key=lambda x:x)\n",
    "print(\"Sorted:\",numbers)"
   ]
  },
  {
   "cell_type": "markdown",
   "id": "4559281c-a845-4ed2-91d0-9e338cad5e84",
   "metadata": {},
   "source": [
    "4.What are the advantages and limitations of lambda functions compared to regular functions in Python?"
   ]
  },
  {
   "cell_type": "markdown",
   "id": "2b70210c-8519-4faa-90db-9960a5761cec",
   "metadata": {},
   "source": [
    "Ans:\n",
    "    \n",
    " Advantages of lambda functions:\n",
    "\n",
    "    1)Conciseness: Lambda functions allow you to define small, one-line functions without the need for a full-fledged function definition. \n",
    "    \n",
    "    2)Anonymous: Lambda functions are anonymous, meaning they don't require a name. This can be useful when you need a function for a short period of time and don't want to define a separate named function.\n",
    "    \n",
    "    3)Immediate Use: Lambda functions can be created and used immediately without being assigned to a variable. This makes them handy for one-time or single-use functions, especially as arguments to other functions.\n",
    "    \n",
    "    Limitations of lambda functions:\n",
    "    \n",
    "    1)Single Expression: Lambda functions can only contain a single expression. \n",
    "    \n",
    "    2)No Statements: Lambda functions cannot contain statements like return, assert, or raise. \n",
    "\n",
    "    3)Limited Readability: While lambda functions can make code concise, they can also reduce readability, especially when the expression becomes too complex or when multiple arguments are involved. Regular functions with descriptive names are often more readable and maintainable in such cases.\n",
    "    \n",
    "    4)Limited Functionality: Due to their simplicity, lambda functions are not suitable for more complex tasks that require multiple statements or extensive logic. Regular functions with a more comprehensive structure are better suited for such scenarios."
   ]
  },
  {
   "cell_type": "markdown",
   "id": "4a0b7aa0-a08e-44a3-a621-9518337e64f1",
   "metadata": {},
   "source": [
    "5. Are lambda functions in Python able to access variables defined outside of their own scope?\n",
    "Explain with an example."
   ]
  },
  {
   "cell_type": "markdown",
   "id": "ea72a9db-96c4-4ac3-9f40-8a80192a1c85",
   "metadata": {},
   "source": [
    "Ans:\n",
    "    \n",
    "Lambda functions have their own local namespace and cannot access variables other than those in their parameter list and those in the global namespace."
   ]
  },
  {
   "cell_type": "code",
   "execution_count": 4,
   "id": "c45b1b94-0838-4fb5-a3ab-1f303eff5bcd",
   "metadata": {},
   "outputs": [
    {
     "name": "stdout",
     "output_type": "stream",
     "text": [
      "13\n"
     ]
    }
   ],
   "source": [
    "#eg:\n",
    "def sum(n):\n",
    "    return lambda x, y: x+y+n\n",
    "\n",
    "Add=sum(2)\n",
    "print(Add(5,6))"
   ]
  },
  {
   "cell_type": "markdown",
   "id": "e837f9cf-da7d-4bad-891e-4f3f4b399b95",
   "metadata": {},
   "source": [
    "6. Write a lambda function to calculate the square of a given number."
   ]
  },
  {
   "cell_type": "code",
   "execution_count": 7,
   "id": "43263be7-0192-4f82-a3d7-ed13d53170e7",
   "metadata": {},
   "outputs": [
    {
     "name": "stdout",
     "output_type": "stream",
     "text": [
      "4\n"
     ]
    }
   ],
   "source": [
    "square=lambda x:x**2\n",
    "print(square(2))"
   ]
  },
  {
   "cell_type": "markdown",
   "id": "74793278-9ee7-41bc-87f8-aad360babd46",
   "metadata": {},
   "source": [
    "7. Create a lambda function to find the maximum value in a list of integers."
   ]
  },
  {
   "cell_type": "code",
   "execution_count": 8,
   "id": "eea83ff5-af99-4520-94a3-01e24aa122f9",
   "metadata": {},
   "outputs": [
    {
     "name": "stdout",
     "output_type": "stream",
     "text": [
      "30\n"
     ]
    }
   ],
   "source": [
    "find_max = lambda x: max(x)\n",
    "numbers = [5, 10, 12, 18, 30]\n",
    "result = find_max(numbers)\n",
    "print(result)  "
   ]
  },
  {
   "cell_type": "markdown",
   "id": "5ee88b66-c934-4642-890a-c0d1d2acf92e",
   "metadata": {},
   "source": [
    "8. Implement a lambda function to filter out all the even numbers from a list of integers."
   ]
  },
  {
   "cell_type": "code",
   "execution_count": 12,
   "id": "2d5c95a4-3488-457d-94c6-689259c4a8ca",
   "metadata": {},
   "outputs": [
    {
     "name": "stdout",
     "output_type": "stream",
     "text": [
      "[2, 4, 6, 8, 10]\n"
     ]
    }
   ],
   "source": [
    "even_numbers = list(filter(lambda x: x % 2 == 0, numbers))\n",
    "num = [1, 2, 3, 4, 5, 6, 7, 8, 9, 10]\n",
    "print(even_numbers)"
   ]
  },
  {
   "cell_type": "markdown",
   "id": "00fa792e-0d4b-4ab8-a262-9bf6c2e12577",
   "metadata": {},
   "source": [
    "9. Write a lambda function to sort a list of strings in ascending order based on the length of each\n",
    "string."
   ]
  },
  {
   "cell_type": "code",
   "execution_count": 14,
   "id": "8c4e6132-ea0f-4cb7-b243-bd137595a39d",
   "metadata": {},
   "outputs": [
    {
     "name": "stdout",
     "output_type": "stream",
     "text": [
      "['ML', 'NLP', 'stats', 'python']\n"
     ]
    }
   ],
   "source": [
    "strings = [\"python\", \"ML\", \"stats\",\"NLP\"]\n",
    "sorted_strings = sorted(strings, key=lambda x: len(x))\n",
    "print(sorted_strings)"
   ]
  },
  {
   "cell_type": "markdown",
   "id": "52b265ef-9a58-46cf-b65f-50923857436d",
   "metadata": {},
   "source": [
    "10. Create a lambda function that takes two lists as input and returns a new list containing the\n",
    "common elements between the two lists."
   ]
  },
  {
   "cell_type": "code",
   "execution_count": 18,
   "id": "853447a8-700c-49a0-95a3-b3a6637ed73e",
   "metadata": {},
   "outputs": [
    {
     "name": "stdout",
     "output_type": "stream",
     "text": [
      "['python']\n"
     ]
    }
   ],
   "source": [
    "list1=[\"python\",\"ML\",\"stats\"]\n",
    "list2=[\"DL\",\"NLP\",\"python\"]\n",
    "list3=list(filter(lambda x:x in list1, list2))\n",
    "print(list3)"
   ]
  },
  {
   "cell_type": "markdown",
   "id": "8496d113-a3ac-4e9b-86f5-8d5aee8698ae",
   "metadata": {},
   "source": [
    "11. Write a recursive function to calculate the factorial of a given positive integer."
   ]
  },
  {
   "cell_type": "code",
   "execution_count": 20,
   "id": "ef19cb59-bac0-4521-8bac-c4474c9fef8f",
   "metadata": {},
   "outputs": [
    {
     "name": "stdout",
     "output_type": "stream",
     "text": [
      "120\n"
     ]
    }
   ],
   "source": [
    "def fact(n):\n",
    "    if n == 0:\n",
    "        return 1\n",
    "    else:\n",
    "        return n * fact(n - 1)\n",
    "result = fact(5)\n",
    "print(result)"
   ]
  },
  {
   "cell_type": "markdown",
   "id": "5ed9078f-e08b-4bfe-a674-bcf2fb314c43",
   "metadata": {},
   "source": [
    "12. Implement a recursive function to compute the nth Fibonacci number."
   ]
  },
  {
   "cell_type": "code",
   "execution_count": 26,
   "id": "09a4f763-d5de-47e9-b4b6-d3181b53aebe",
   "metadata": {},
   "outputs": [
    {
     "name": "stdin",
     "output_type": "stream",
     "text": [
      "Enter the value of n:  4\n"
     ]
    },
    {
     "name": "stdout",
     "output_type": "stream",
     "text": [
      "The 4th Fibonacci number is: 2\n"
     ]
    }
   ],
   "source": [
    " def fib(n):\n",
    "   \n",
    "     if n == 0:\n",
    "        return None\n",
    "     elif n == 1:\n",
    "        return 0\n",
    "     elif n == 2:\n",
    "        return 1\n",
    "     else:\n",
    "        return fib(n - 1) + fib(n - 2)\n",
    "\n",
    "n = int(input(\"Enter the value of n: \"))\n",
    "\n",
    "result = fib(n)\n",
    "print(f\"The {n}th Fibonacci number is: {result}\")"
   ]
  },
  {
   "cell_type": "markdown",
   "id": "4c469540-cbb3-448b-8d71-11f2cd933b89",
   "metadata": {},
   "source": [
    "13. Create a recursive function to find the sum of all the elements in a given list."
   ]
  },
  {
   "cell_type": "code",
   "execution_count": 27,
   "id": "eb3ac796-59af-407e-905a-9c472cee7e5d",
   "metadata": {},
   "outputs": [
    {
     "name": "stdout",
     "output_type": "stream",
     "text": [
      "42\n"
     ]
    }
   ],
   "source": [
    "myList=[23,4,2,6,7]\n",
    " \n",
    "def sumOfList(myList, nSum):\n",
    "    if len(myList):\n",
    "        return sumOfList(myList[1:], nSum+myList[0])\n",
    "    else:\n",
    "        return nSum\n",
    "         \n",
    "print(sumOfList(myList, 0))"
   ]
  },
  {
   "cell_type": "markdown",
   "id": "5e9c2341-3fd2-4a3e-a982-6749c2abb0f9",
   "metadata": {},
   "source": [
    "14. Write a recursive function to determine whether a given string is a palindrome."
   ]
  },
  {
   "cell_type": "code",
   "execution_count": 44,
   "id": "6587a7b0-3734-41b0-89b9-4e404d0f0990",
   "metadata": {},
   "outputs": [
    {
     "name": "stdin",
     "output_type": "stream",
     "text": [
      "Enter the string malayalam\n"
     ]
    },
    {
     "name": "stdout",
     "output_type": "stream",
     "text": [
      "The string is malayalam\n",
      "The string malayalam is palindrome\n"
     ]
    }
   ],
   "source": [
    "def palindrome(string):\n",
    "    if len(string) < 1:\n",
    "        return True\n",
    "    else:\n",
    "         if string[0]==string[-1]:\n",
    "            return palindrome(string[1:-1])\n",
    "         else:\n",
    "            return False\n",
    "EnterString = input(\"Enter the string\")\n",
    "print(\"The string is\", EnterString)\n",
    "if(palindrome(EnterString)==True):\n",
    "    print(f\"The string {EnterString} is palindrome\")\n",
    "else:\n",
    "    print(f\"The string {EnterString} is not a palindrome\")"
   ]
  },
  {
   "cell_type": "markdown",
   "id": "7bd4a6a4-a75c-4036-8f76-7015587fb00d",
   "metadata": {},
   "source": [
    "15. Implement a recursive function to find the greatest common divisor (GCD) of two positive integers."
   ]
  },
  {
   "cell_type": "code",
   "execution_count": 47,
   "id": "0acfd990-51e5-41e3-b02d-c696fcd57595",
   "metadata": {},
   "outputs": [
    {
     "name": "stdin",
     "output_type": "stream",
     "text": [
      "Enter First Number:  100\n",
      "Enter Second Number:  50\n"
     ]
    },
    {
     "name": "stdout",
     "output_type": "stream",
     "text": [
      "GCD is : 50\n"
     ]
    }
   ],
   "source": [
    "def gcd(num1,num2):\n",
    "    if(num2 == 0):\n",
    "        return num1\n",
    "    else:\n",
    "        return gcd(num2,num1%num2)\n",
    "num1 = int(input(\"Enter First Number: \"))\n",
    "num2 = int(input(\"Enter Second Number: \"))\n",
    "result = gcd(num1,num2)\n",
    "print(\"GCD is : {}\".format(result))"
   ]
  },
  {
   "cell_type": "code",
   "execution_count": null,
   "id": "3715a3c8-5912-44ad-8400-8491a70464ce",
   "metadata": {},
   "outputs": [],
   "source": []
  }
 ],
 "metadata": {
  "kernelspec": {
   "display_name": "Python 3 (ipykernel)",
   "language": "python",
   "name": "python3"
  },
  "language_info": {
   "codemirror_mode": {
    "name": "ipython",
    "version": 3
   },
   "file_extension": ".py",
   "mimetype": "text/x-python",
   "name": "python",
   "nbconvert_exporter": "python",
   "pygments_lexer": "ipython3",
   "version": "3.10.6"
  }
 },
 "nbformat": 4,
 "nbformat_minor": 5
}
