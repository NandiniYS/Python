{
 "cells": [
  {
   "cell_type": "markdown",
   "id": "4d7e9d0b-559a-4434-bf4d-4970e085554f",
   "metadata": {},
   "source": [
    "1. What does an empty dictionary's code look like?"
   ]
  },
  {
   "cell_type": "markdown",
   "id": "3267a08a-a89f-40b8-88a9-eb802e9ec600",
   "metadata": {},
   "source": [
    "Ans: An empty dictionary is represented by empty curly braces.\n",
    "d={}"
   ]
  },
  {
   "cell_type": "markdown",
   "id": "aad0de55-b61a-4f3f-92c8-08d2630314f8",
   "metadata": {},
   "source": [
    "2. What is the value of a dictionary value with the key &#39;foo&#39; and the value 42?"
   ]
  },
  {
   "cell_type": "markdown",
   "id": "6805ef04-fd93-4cb5-8b3e-2953ba7d4ef4",
   "metadata": {},
   "source": [
    "Ans: d={'foo':42}"
   ]
  },
  {
   "cell_type": "markdown",
   "id": "aa7cc4d2-81ab-4ed5-b881-4d71ae9f467f",
   "metadata": {},
   "source": [
    "3. What is the most significant distinction between a dictionary and a list?"
   ]
  },
  {
   "cell_type": "markdown",
   "id": "e4461e3a-efad-49e6-b714-837e7f8c5784",
   "metadata": {},
   "source": [
    "Ans: lists are ordered collection of items. It is represented by [].\n",
    "dictionaries are key, value pair of items. It is represented by {}"
   ]
  },
  {
   "cell_type": "markdown",
   "id": "1c12e571-1dd3-4aa9-b452-2f884ab0304c",
   "metadata": {},
   "source": [
    "4. What happens if you try to access spam['foo'] if spam is {'bar': 100}?"
   ]
  },
  {
   "cell_type": "markdown",
   "id": "454f648b-b5e7-467f-b839-b3b4548467c9",
   "metadata": {},
   "source": [
    "Ans: We will get a KeyError such as KeyError: 'foo'"
   ]
  },
  {
   "cell_type": "markdown",
   "id": "85599098-fe5a-47a2-ac24-723cd75073b9",
   "metadata": {},
   "source": [
    "5. If a dictionary is stored in spam, what is the difference between the expressions 'cat' in spam and\n",
    "'cat' in spam.keys()?"
   ]
  },
  {
   "cell_type": "markdown",
   "id": "1e1b8ccb-a7fa-4426-8b79-ca0e40556854",
   "metadata": {},
   "source": [
    "Ans: There is no difference. Operator checks if value exists as a key in dictionary or not "
   ]
  },
  {
   "cell_type": "markdown",
   "id": "0c21c09e-95a8-4d98-b666-698aefa12bb9",
   "metadata": {},
   "source": [
    "6. If a dictionary is stored in spam, what is the difference between the expressions 'cat' in spam and\n",
    "'cat' in spam.values()?"
   ]
  },
  {
   "cell_type": "markdown",
   "id": "0d504ce4-074b-4fcb-92df-9b045de3a0bb",
   "metadata": {},
   "source": [
    "Ans: 'cat' in spam checks whether there is a 'cat' key in the dictionary, while 'cat' in spam. values() checks whether there is a value 'cat' for one of the keys in spam."
   ]
  },
  {
   "cell_type": "markdown",
   "id": "17e83ddc-9bc6-47fb-842e-207ec8ee0cc2",
   "metadata": {},
   "source": [
    "7. What is a shortcut for the following code?\n",
    "if 'color' not in spam:\n",
    "spam['color'] = 'black'"
   ]
  },
  {
   "cell_type": "markdown",
   "id": "5c617669-f332-4692-804e-0c15b46d6adc",
   "metadata": {},
   "source": [
    "Ans: spam.setdefault('color','black')"
   ]
  },
  {
   "cell_type": "markdown",
   "id": "f3b0acfa-f708-40fa-844b-b44474358bbe",
   "metadata": {},
   "source": [
    "8. How do you \"pretty print\" dictionary values using which module and function?"
   ]
  },
  {
   "cell_type": "raw",
   "id": "e995cb14-ab94-4acc-8e92-40c6720ba2ba",
   "metadata": {},
   "source": [
    "1.by using pprint() function of pprint module\n",
    "2.by using dumps() method of json module\n",
    "3.by using dumps() method of yaml module"
   ]
  },
  {
   "cell_type": "code",
   "execution_count": null,
   "id": "5e7aa920-c622-4c90-be62-15fa9867c572",
   "metadata": {},
   "outputs": [],
   "source": [
    "ndict = [\n",
    "  {'Name': 'XYZ', 'Age': '54', 'Residence': {'Country':'China', 'City': 'XYZ'}},\n",
    "  {'Name': 'ABC', 'Age': '23', 'Residence': {'Country':'India', 'City': 'Hyd'}},\n",
    "  {'Name': 'MN', 'Age': '26', 'Residence': {'Country':'UK', 'City': 'England'}},\n",
    "  {'Name': 'EFG', 'Age': '64', 'Residence': {'Country':'Japan', 'City': 'Osaka'}}\n",
    "]\n",
    "\n",
    "print('Printing using print() function\\n',ndict)\n",
    "print('-'*90)\n",
    "import pprint\n",
    "print('Printing using pprint() funciton')\n",
    "pprint.pprint(ndict)\n",
    "print('-'*90)\n",
    "import json\n",
    "dump = json.dumps(ndict, indent=4)\n",
    "print('Printing using dumps() method\\n', dump)\n",
    "print('-'*90)\n",
    "import yaml\n",
    "dump = yaml.dump(ndict)\n",
    "print('Printing using dump() method\\n', dump)"
   ]
  },
  {
   "cell_type": "code",
   "execution_count": null,
   "id": "6aadf896-478b-472a-a496-65c4ee1379ae",
   "metadata": {},
   "outputs": [],
   "source": []
  }
 ],
 "metadata": {
  "kernelspec": {
   "display_name": "Python 3 (ipykernel)",
   "language": "python",
   "name": "python3"
  },
  "language_info": {
   "codemirror_mode": {
    "name": "ipython",
    "version": 3
   },
   "file_extension": ".py",
   "mimetype": "text/x-python",
   "name": "python",
   "nbconvert_exporter": "python",
   "pygments_lexer": "ipython3",
   "version": "3.10.6"
  }
 },
 "nbformat": 4,
 "nbformat_minor": 5
}
