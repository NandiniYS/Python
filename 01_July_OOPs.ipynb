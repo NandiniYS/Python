{
 "cells": [
  {
   "cell_type": "markdown",
   "id": "ff7a9659-7b77-4472-b544-696b05a156f9",
   "metadata": {},
   "source": [
    "1. What is the primary goal of Object-Oriented Programming (OOP)?"
   ]
  },
  {
   "cell_type": "markdown",
   "id": "ec5ec777-cd90-480f-add7-5099e1b06e44",
   "metadata": {},
   "source": [
    "Ans: Primary Goal of OOPs:\n",
    "OOPs is to bind together the data and the functions that operate on them. OOPs provides reusability."
   ]
  },
  {
   "cell_type": "markdown",
   "id": "62d3e6c0-e309-410f-b792-d6dd055aa7ea",
   "metadata": {},
   "source": [
    "2. What is an object in Python?"
   ]
  },
  {
   "cell_type": "markdown",
   "id": "92174c6b-1c7a-41d1-9f3c-3d8d199c3ef8",
   "metadata": {},
   "source": [
    "Ans: Object in Python:\n",
    "Object is instance of class. Object is an entity that has state and behaviour. It can be real world object such as chair, pen, table etc."
   ]
  },
  {
   "cell_type": "markdown",
   "id": "2f89f8d0-1a00-46ff-9b5a-219c66be7c52",
   "metadata": {},
   "source": [
    "3. What is a class in Python?"
   ]
  },
  {
   "cell_type": "markdown",
   "id": "829e2334-b388-4f67-9a9d-b5ffa57de0f0",
   "metadata": {},
   "source": [
    "Ans: Class: Class is a blueprint of Object. It is a logical entity that has some specific attributes and methods.\n",
    "Example: class Bank"
   ]
  },
  {
   "cell_type": "markdown",
   "id": "bd86c8f5-2507-495e-8099-f6b7d73aeb80",
   "metadata": {},
   "source": [
    "4. What are attributes and methods in a class?"
   ]
  },
  {
   "cell_type": "markdown",
   "id": "f2f64b05-6a7b-487a-aa2b-a617bac94ded",
   "metadata": {},
   "source": [
    "Ans: Attributes and Methods: Attribute is a variable defined in class. Method is a function defined in class."
   ]
  },
  {
   "cell_type": "code",
   "execution_count": 11,
   "id": "f4f21ec2-d20f-4a7d-be67-f3f30ac8ab65",
   "metadata": {},
   "outputs": [
    {
     "name": "stdout",
     "output_type": "stream",
     "text": [
      "200\n"
     ]
    }
   ],
   "source": [
    "#Example of Attributes and Methods\n",
    "class Bank:\n",
    "    def __init__(self, accountnumber, balance):\n",
    "        self.AccountNumber=accountnumber\n",
    "        self.Balance=balance\n",
    "    \n",
    "    def deposit(self, deposit):\n",
    "        self.Balance+=deposit\n",
    "        \n",
    "BankAccount1=Bank(89348954, 100)\n",
    "BankAccount1.deposit(100)\n",
    "print(BankAccount1.Balance)\n",
    "\n",
    "#In the above example: accountnumber, balance, deposit are the attributes. deposit() is method."
   ]
  },
  {
   "cell_type": "markdown",
   "id": "71a2fb8d-f0c5-444f-b220-663c2ec92443",
   "metadata": {},
   "source": [
    "5. What is the difference between class variables and instance variables in Python?"
   ]
  },
  {
   "cell_type": "markdown",
   "id": "5f018d92-7f90-48b5-8bd6-163010788884",
   "metadata": {},
   "source": [
    "Ans: Class Variables: Class variables are declared inside the construction of class. As these variables are owned by class itself, they are shared by all functions in class.\n",
    "\n",
    "Instance Variables: Instance variables are declared inside the class instances(functions). "
   ]
  },
  {
   "cell_type": "code",
   "execution_count": 17,
   "id": "1034a7ea-2d42-4af9-828d-1d7f54619285",
   "metadata": {},
   "outputs": [
    {
     "name": "stdout",
     "output_type": "stream",
     "text": [
      "Employee Nandini with age 25 has joined\n",
      "Ineuron\n"
     ]
    }
   ],
   "source": [
    "#Example of class variables, instance variables\n",
    "class Employee:\n",
    "    Cname = \"Ineuron\"   #class variable\n",
    "    def __init__(self, Ename, Eage):  #instance variables\n",
    "        self.EName=Ename\n",
    "        self.EAge=Eage\n",
    "        \n",
    "    def displayinfo(self):\n",
    "        print (f\"Employee {self.EName} with age {self.EAge} has joined\")\n",
    "        print(Employee.Cname)\n",
    "        \n",
    "E1=Employee(\"Nandini\", 25)\n",
    "E1.displayinfo()"
   ]
  },
  {
   "cell_type": "markdown",
   "id": "c77969b6-5daf-4856-9721-8e48477d7ecf",
   "metadata": {},
   "source": [
    "6. What is the purpose of the self parameter in Python class methods?"
   ]
  },
  {
   "cell_type": "markdown",
   "id": "ce746ddc-e296-4dae-b6b0-e1bfc4c1a07c",
   "metadata": {},
   "source": [
    "Ans: self represents instance of class. We can access attributes and methods using self."
   ]
  },
  {
   "cell_type": "code",
   "execution_count": null,
   "id": "68c9b15d-1d6b-4281-80e2-1a70b8ad2ea6",
   "metadata": {},
   "outputs": [],
   "source": [
    "7. For a library management system, you have to design the \"Book\" class with OOP\n",
    "principles in mind. The “Book” class will have following attributes:\n",
    "a. title: Represents the title of the book.\n",
    "b. author: Represents the author(s) of the book.\n",
    "c. isbn: Represents the ISBN (International Standard Book Number) of the book.\n",
    "d. publication_year: Represents the year of publication of the book.\n",
    "e. available_copies: Represents the number of copies available for checkout.\n",
    "The class will also include the following methods:\n",
    "a. check_out(self): Decrements the available copies by one if there are copies\n",
    "available for checkout.\n",
    "b. return_book(self): Increments the available copies by one when a book is\n",
    "returned.\n",
    "c. display_book_info(self): Displays the information about the book, including its\n",
    "attributes and the number of available copies."
   ]
  },
  {
   "cell_type": "code",
   "execution_count": 18,
   "id": "de3fcd40-660c-423c-b17c-8d3e1c43d0e4",
   "metadata": {},
   "outputs": [
    {
     "name": "stdout",
     "output_type": "stream",
     "text": [
      "Python Masters written by Alice with isbn 387387 published on 2012 has 4 copies\n"
     ]
    }
   ],
   "source": [
    "#7.Library Management System\n",
    "\n",
    "class Book:\n",
    "    def __init__(self, title, author, isbn, publication_year, available_copies):\n",
    "        self.title=title\n",
    "        self.author=author\n",
    "        self.isbn=isbn\n",
    "        self.publication_year=publication_year\n",
    "        self.available_copies=available_copies\n",
    "        \n",
    "    def check_out(self, delcopy):\n",
    "        if self.available_copies>=1:\n",
    "            self.available_copies-=delcopy\n",
    "        else:\n",
    "            print(\"Book is not available\")\n",
    "    \n",
    "    def return_book(self, addbook):\n",
    "        self.available_copies+=addbook\n",
    "        \n",
    "    def display_info(self):\n",
    "        print(f\"{self.title} written by {self.author} with isbn {self.isbn} published on {self.publication_year} has {self.available_copies} copies\")\n",
    "\n",
    "Book1=Book(\"Python Masters\", \"Alice\", \"387387\", 2012, 3)\n",
    "Book1.check_out(1)\n",
    "Book1.return_book(2)\n",
    "Book1.display_info()\n"
   ]
  },
  {
   "cell_type": "code",
   "execution_count": null,
   "id": "265d91ff-5b60-40f8-92fb-c9bc0eef8a7a",
   "metadata": {},
   "outputs": [],
   "source": [
    "8. For a ticket booking system, you have to design the \"Ticket\" class with OOP\n",
    "principles in mind. The “Ticket” class should have the following attributes:\n",
    "a. ticket_id: Represents the unique identifier for the ticket.\n",
    "b. event_name: Represents the name of the event.\n",
    "c. event_date: Represents the date of the event.\n",
    "d. venue: Represents the venue of the event.\n",
    "e. seat_number: Represents the seat number associated with the ticket.\n",
    "f. price: Represents the price of the ticket.\n",
    "g. is_reserved: Represents the reservation status of the ticket.\n",
    "The class also includes the following methods:\n",
    "a. reserve_ticket(self): Marks the ticket as reserved if it is not already reserved.\n",
    "b. cancel_reservation(self): Cancels the reservation of the ticket if it is already\n",
    "reserved.\n",
    "c. display_ticket_info(self): Displays the information about the ticket, including its\n",
    "attributes and reservation status."
   ]
  },
  {
   "cell_type": "code",
   "execution_count": 19,
   "id": "f3ce9dbc-0424-4bd8-9cdf-c2dd4a7df20d",
   "metadata": {},
   "outputs": [
    {
     "name": "stdout",
     "output_type": "stream",
     "text": [
      "Ticket is already reserved\n",
      "Ticket 1328 for the event Movie which is on 06-07-2023 at Bglr with the seat number 20 costed 200 has the reservation status as True\n",
      "Ticket 2733 for the event Movie which is on 06-07-2023 at Bglr with the seat number 20 costed 200 has the reservation status as False\n"
     ]
    }
   ],
   "source": [
    "#8.Ticket Booking System\n",
    "\n",
    "class Ticket:\n",
    "    def __init__(self, ticket_id, event_name, event_date, venue, seat_number, price, is_reserved):\n",
    "        self.ticket_id=ticket_id\n",
    "        self.event_name=event_name\n",
    "        self.event_date=event_date\n",
    "        self.venue=venue\n",
    "        self.seat_number=seat_number\n",
    "        self.price=price\n",
    "        self.is_reserved=is_reserved\n",
    "        \n",
    "    def reserve_ticket(self):\n",
    "        if self.is_reserved==False:\n",
    "            self.is_reserved=True\n",
    "        else:\n",
    "            print(\"Ticket is already reserved\")\n",
    "            \n",
    "    def cancel_reservation(self):\n",
    "        if self.is_reserved==True:\n",
    "            self.is_reserved=False\n",
    "        else:\n",
    "            print(\"Ticket is cancelled already\")\n",
    "    \n",
    "    def display_info(self):\n",
    "        print(f\"Ticket {self.ticket_id} for the event {self.event_name} which is on {self.event_date} at {self.venue} with the seat number {self.seat_number} costed {self.price} has the reservation status as {self.is_reserved}\")\n",
    "        \n",
    "Ticket1=Ticket(1328, \"Movie\", \"06-07-2023\", \"Bglr\", 20, 200, True)\n",
    "Ticket1.reserve_ticket()\n",
    "Ticket1.display_info()\n",
    "\n",
    "Ticket2=Ticket(2733, \"Movie\", \"06-07-2023\", \"Bglr\", 20, 200, True)\n",
    "Ticket2.cancel_reservation()\n",
    "Ticket2.display_info()"
   ]
  },
  {
   "cell_type": "code",
   "execution_count": 33,
   "id": "655b79e8-f87c-4cee-b62e-aa0b9346050d",
   "metadata": {},
   "outputs": [
    {
     "name": "stdout",
     "output_type": "stream",
     "text": [
      "List of items are ['Phone', 'Laptop', 'Headphones', 'Laptop bag']\n",
      "Laptop is removed from List of Items\n",
      "List of items are ['Phone', 'Headphones', 'Laptop bag']\n",
      "Cleared the List of items and now the list is blank []\n"
     ]
    }
   ],
   "source": [
    "#9. Shopping Cart\n",
    "\n",
    "class ShoppingCart:\n",
    "    def __init__(self):\n",
    "        self.items=[]\n",
    "        \n",
    "    def add_item(self, item):\n",
    "        self.items.append(item)\n",
    "        \n",
    "    def remove_item(self, item):\n",
    "        if item in self.items:\n",
    "            self.items.remove(item)\n",
    "            print(f\"{item} is removed from List of Items\")\n",
    "        else:\n",
    "            print(f\"{item} is not found to remove\")\n",
    "    \n",
    "    def view_cart(self):\n",
    "        print(f\"List of items are {self.items}\")\n",
    "        \n",
    "    def clear_cart(self):\n",
    "        self.items.clear()\n",
    "        print(f\"Cleared the List of items and now the list is blank {self.items}\")\n",
    "             \n",
    "Item1=ShoppingCart()\n",
    "Item1.add_item(\"Phone\")\n",
    "Item1.add_item(\"Laptop\")\n",
    "Item1.add_item(\"Headphones\")\n",
    "Item1.add_item(\"Laptop bag\")\n",
    "Item1.view_cart()\n",
    "Item1.remove_item(\"Laptop\")\n",
    "Item1.view_cart()\n",
    "Item1.clear_cart()"
   ]
  },
  {
   "cell_type": "code",
   "execution_count": 16,
   "id": "28d840a5-704d-4a67-a90a-0623ebd6341c",
   "metadata": {},
   "outputs": [
    {
     "name": "stdout",
     "output_type": "stream",
     "text": [
      "Attendance Record of student is {'10-06-2023': 'present', '11-06-2023': 'present', '12-06-2023': 'absent', '13-06-2023': 'present'}\n",
      "Average attendance percentage of student is 75.0 %\n"
     ]
    }
   ],
   "source": [
    "#10.School Management System\n",
    "\n",
    "class Student:\n",
    "    def __init__(self, name, age, grade, student_id):\n",
    "        self.name=name\n",
    "        self.age=age\n",
    "        self.grade=grade\n",
    "        self.student_id=student_id\n",
    "        self.attendance={}\n",
    "        \n",
    "    def update_attendance(self, date, status):\n",
    "        self.attendance[date]=status\n",
    "        \n",
    "    def get_attendance(self):\n",
    "        return self.attendance\n",
    "    \n",
    "    def get_average_attendance(self):\n",
    "        TotalDays=len(self.attendance)\n",
    "        PresentDays=list(self.attendance.values()).count('present')\n",
    "        if TotalDays > 0:\n",
    "            AttendancePercentage=(PresentDays/TotalDays)*100\n",
    "            return AttendancePercentage\n",
    "        else:\n",
    "            return 0\n",
    "        \n",
    "student1=Student(\"Nandini\",20, \"12 std\", 93994)\n",
    "\n",
    "student1.update_attendance(\"10-06-2023\",\"present\")\n",
    "student1.update_attendance(\"11-06-2023\",\"present\")\n",
    "student1.update_attendance(\"12-06-2023\",\"absent\")\n",
    "student1.update_attendance(\"13-06-2023\",\"present\")\n",
    "\n",
    "Attendance_Record=student1.get_attendance()\n",
    "print(\"Attendance Record of student is\", Attendance_Record)\n",
    "\n",
    "Average_Attendance=student1.get_average_attendance()\n",
    "print(\"Average attendance percentage of student is\", Average_Attendance,\"%\")"
   ]
  },
  {
   "cell_type": "code",
   "execution_count": null,
   "id": "744cd1e7-d5c6-4f82-8df0-fe85729878b7",
   "metadata": {},
   "outputs": [],
   "source": []
  },
  {
   "cell_type": "code",
   "execution_count": null,
   "id": "fa901a76-d220-47ab-a38a-08115792efa0",
   "metadata": {},
   "outputs": [],
   "source": []
  }
 ],
 "metadata": {
  "kernelspec": {
   "display_name": "Python 3 (ipykernel)",
   "language": "python",
   "name": "python3"
  },
  "language_info": {
   "codemirror_mode": {
    "name": "ipython",
    "version": 3
   },
   "file_extension": ".py",
   "mimetype": "text/x-python",
   "name": "python",
   "nbconvert_exporter": "python",
   "pygments_lexer": "ipython3",
   "version": "3.10.6"
  }
 },
 "nbformat": 4,
 "nbformat_minor": 5
}
