{
 "cells": [
  {
   "cell_type": "markdown",
   "id": "bed151d3-d93a-440d-9875-86ed176980ae",
   "metadata": {},
   "source": [
    "1. What is the role of try and exception block?"
   ]
  },
  {
   "cell_type": "markdown",
   "id": "df9722a4-0cd8-47d1-b336-4110644c1e9b",
   "metadata": {},
   "source": [
    "Ans: try block contains the code that can raise an exception. exception block contains the code that handle the exception that comes up during the execution."
   ]
  },
  {
   "cell_type": "markdown",
   "id": "d86b4034-b7db-4f19-a5e9-7a10c4c9aa98",
   "metadata": {},
   "source": [
    "2. What is the syntax for a basic try-except block?"
   ]
  },
  {
   "cell_type": "code",
   "execution_count": null,
   "id": "6c82c173-543f-4943-9bdb-042e938bee1f",
   "metadata": {},
   "outputs": [],
   "source": [
    "#Ans:\n",
    "    \n",
    "try:\n",
    "    #code that raise an exception\n",
    "except exceptionType:\n",
    "    #code that handle the exception"
   ]
  },
  {
   "cell_type": "markdown",
   "id": "03a48ac4-27f6-4b40-93c1-a3b7125c4a4e",
   "metadata": {},
   "source": [
    "3. What happens if an exception occurs inside a try block and there is no matching except block?"
   ]
  },
  {
   "cell_type": "markdown",
   "id": "6e7062b6-e0a5-472b-8e45-f3057a914ca1",
   "metadata": {},
   "source": [
    "Ans: If an exception occurs inside a try block and there is no matching except block to handle that specific exception, the exception will propagate up the call stack until\n",
    "it is caught by an appropriate except block or until it reaches the top-level of the program"
   ]
  },
  {
   "cell_type": "markdown",
   "id": "e632694b-0a45-4dc3-965d-34575ea43c39",
   "metadata": {},
   "source": [
    "4. What is the difference between using a bare except block and specifying a specific exception type?"
   ]
  },
  {
   "cell_type": "markdown",
   "id": "9f302c52-011d-44e4-b573-3c0cb9325094",
   "metadata": {},
   "source": [
    "Ans:\n",
    "\n",
    "bare except will catch and handle any type of exception that occurs within the corresponding try block. This includes built-in exceptions as well as custom exceptions. \n",
    "\n",
    "specific type exception is a specific exception type in an except block, it will only catch and handle exceptions of that particular type or its subclasses. "
   ]
  },
  {
   "cell_type": "markdown",
   "id": "77504769-1052-423e-9404-c6a95fafb4bd",
   "metadata": {},
   "source": [
    "5. Can you have nested try-except blocks in Python? If yes, then give an example."
   ]
  },
  {
   "cell_type": "markdown",
   "id": "edb163d1-1f8b-4ae2-9644-ad042dc14627",
   "metadata": {},
   "source": [
    "Ans:\n",
    "Yes, We can have nested try-except blocks in Python. In this case, if an exception is raised in the nested try block, the nested except block is used to handle it. In case the nested except is not able to handle it, the outer except blocks are used to handle the exception."
   ]
  },
  {
   "cell_type": "code",
   "execution_count": 3,
   "id": "ec3f3739-9996-4a6b-a46c-93e5fa5900a8",
   "metadata": {},
   "outputs": [
    {
     "name": "stdout",
     "output_type": "stream",
     "text": [
      "outer try block\n",
      "nested try block\n",
      "outer except block\n",
      "division by zero\n"
     ]
    }
   ],
   "source": [
    "x = 10\n",
    "y = 0\n",
    "\n",
    "try:\n",
    "    print(\"outer try block\")\n",
    "    try:\n",
    "        print(\"nested try block\")\n",
    "        print(x / y)\n",
    "    except TypeError as te:\n",
    "        print(\"nested except block\")\n",
    "        print(te)\n",
    "except ZeroDivisionError as ze:\n",
    "    print(\"outer except block\")\n",
    "    print(ze)"
   ]
  },
  {
   "cell_type": "markdown",
   "id": "e96dbf75-b9d0-41ac-9c29-44b956150be1",
   "metadata": {},
   "source": [
    "6. Can we use multiple exception blocks, if yes then give an example."
   ]
  },
  {
   "cell_type": "markdown",
   "id": "38f4cf8d-7cc4-4ec5-9355-113c916e2d6f",
   "metadata": {},
   "source": [
    "Ans:\n",
    "Yes, it is possible to use multiple except blocks to handle different types of exceptions in Python. "
   ]
  },
  {
   "cell_type": "code",
   "execution_count": 7,
   "id": "1ec92908-0889-4832-ace0-437ae631d6a6",
   "metadata": {},
   "outputs": [
    {
     "name": "stdout",
     "output_type": "stream",
     "text": [
      "Type error occurs\n"
     ]
    }
   ],
   "source": [
    "try:\n",
    "    a = 10\n",
    "    b = 0\n",
    "    c = \"abc\"\n",
    "    d =a+c\n",
    "except ZeroDivisionError:\n",
    "    print(\"Zero Division Error occurs\")\n",
    "except IndexError:\n",
    "    print(\"Index error occurs\")\n",
    "except TypeError:\n",
    "    print(\"Type error occurs\")"
   ]
  },
  {
   "cell_type": "markdown",
   "id": "4fe82c36-33fb-48a6-86b8-d0481a906652",
   "metadata": {},
   "source": [
    "7. Write the reason due to which following errors are raised:\n",
    "a. EOFError\n",
    "b. FloatingPointError\n",
    "c. IndexError\n",
    "d. MemoryError\n",
    "e. OverflowError\n",
    "f. TabError\n",
    "g. ValueError"
   ]
  },
  {
   "cell_type": "markdown",
   "id": "22de92d0-3f26-494f-b685-a1d230290f06",
   "metadata": {},
   "source": [
    "1.EOFError: This error occurs when Python has reached the end of user input without receiving any input. The reason that EOFError occurs is that Python attempts to print out your input in variable string when no data is given.\n",
    "\n",
    "2.FloatingPointError:  It is an error that occurs when a floating-point calculation is attempted that is not supported by the available hardware or software. It occurs when trying to calculate a number that is too large or too small to represent as a floating-point number. It can also occur when the precision of the calculation is too large, resulting in an overflow error.\n",
    "\n",
    "3.IndexError:  IndexError is an exception in python that occurs when we try to access an element from a list or tuple from an index that is not present in the list.\n",
    "\n",
    "4.MemoryError: It means that the interpreter has run out of memory to allocate to your Python program. This may be due to an issue in the setup of the Python environment or it may be a concern with the code itself loading too much data at the same time.\n",
    "\n",
    "5.OverflowError: Python OverflowError is an error that occurs when a calculation exceeds the maximum limit of a data type. \n",
    "\n",
    "6.TabError: This error is raised when there are inconsistencies or issues with the indentation of code that uses tabs for indentation. It occurs when mixing tabs and spaces in an indented block or when the indentation width is not consistent throughout the code.\n",
    "\n",
    "7.ValueError: This error is raised when a function or operation receives an argument of the correct type but an inappropriate value. It occurs when a function expects a certain value or range of values, and the provided argument does not meet the required criteria."
   ]
  },
  {
   "cell_type": "code",
   "execution_count": null,
   "id": "8946f12d-f838-468d-8bc8-fefa2f74e8d5",
   "metadata": {},
   "outputs": [],
   "source": [
    "8. Write code for the following given scenario and add try-exception block to it.\n",
    "a. Program to divide two numbers\n",
    "b. Program to convert a string to an integer\n",
    "c. Program to access an element in a list\n",
    "d. Program to handle a specific exception\n",
    "e. Program to handle any exception"
   ]
  },
  {
   "cell_type": "code",
   "execution_count": 10,
   "id": "35dc84e1-a136-4dcb-9b1c-987ac7f496ee",
   "metadata": {},
   "outputs": [
    {
     "name": "stdin",
     "output_type": "stream",
     "text": [
      "Enter the first number:  10\n",
      "Enter the second number:  0\n"
     ]
    },
    {
     "name": "stdout",
     "output_type": "stream",
     "text": [
      "Error: Cannot divide by zero.\n"
     ]
    }
   ],
   "source": [
    "#1.Program to divide two numbers\n",
    "\n",
    "try:\n",
    "    num1 = float(input(\"Enter the first number: \"))\n",
    "    num2 = float(input(\"Enter the second number: \"))\n",
    "    result = num1 / num2\n",
    "    print(\"Result:\", result)\n",
    "except ZeroDivisionError:\n",
    "    print(\"Error: Cannot divide by zero.\")"
   ]
  },
  {
   "cell_type": "code",
   "execution_count": 13,
   "id": "0a283ac4-80fa-47f9-bc8e-9aba70075bb8",
   "metadata": {},
   "outputs": [
    {
     "name": "stdin",
     "output_type": "stream",
     "text": [
      "Enter a number:  a\n"
     ]
    },
    {
     "name": "stdout",
     "output_type": "stream",
     "text": [
      "Invalid input. Please enter a valid integer.\n"
     ]
    }
   ],
   "source": [
    "#2.Program to convery a string to an integer\n",
    "\n",
    "try:\n",
    "    num_str = input(\"Enter a number: \")\n",
    "    num = int(num_str)\n",
    "    print(\"Number:\", num)\n",
    "except ValueError:\n",
    "    print(\"Invalid input. Please enter a valid integer.\")"
   ]
  },
  {
   "cell_type": "code",
   "execution_count": 15,
   "id": "8c344306-dc2c-4fd3-a7ea-7c98f5f4f8c2",
   "metadata": {},
   "outputs": [
    {
     "name": "stdin",
     "output_type": "stream",
     "text": [
      "Enter the index:  6\n"
     ]
    },
    {
     "name": "stdout",
     "output_type": "stream",
     "text": [
      "Index out of range.\n"
     ]
    }
   ],
   "source": [
    "#3.Program to access an element in a list\n",
    "\n",
    "try:\n",
    "    my_list = [1, 2, 3, 4, 5]\n",
    "    index = int(input(\"Enter the index: \"))\n",
    "    value = my_list[index]\n",
    "    print(\"Value:\", value)\n",
    "except IndexError:\n",
    "    print(\"Index out of range.\")"
   ]
  },
  {
   "cell_type": "code",
   "execution_count": 17,
   "id": "4078d1f8-ce7b-4f2f-8ae1-aa441ea2afaa",
   "metadata": {},
   "outputs": [
    {
     "name": "stdin",
     "output_type": "stream",
     "text": [
      "Enter your age:  -1\n"
     ]
    },
    {
     "name": "stdout",
     "output_type": "stream",
     "text": [
      "Error: Invalid age. Age cannot be negative.\n"
     ]
    }
   ],
   "source": [
    "#4.Program to handle a specific exception\n",
    "\n",
    "try:\n",
    "    age = int(input(\"Enter your age: \"))\n",
    "    if age < 0:\n",
    "        raise ValueError(\"Invalid age. Age cannot be negative.\")\n",
    "    print(\"Age:\", age)\n",
    "except ValueError as ve:\n",
    "    print(\"Error:\", str(ve))"
   ]
  },
  {
   "cell_type": "code",
   "execution_count": null,
   "id": "22bac524-88ab-41c3-8467-823eff0a9011",
   "metadata": {},
   "outputs": [],
   "source": [
    "#5. Program to handle any exception:\n",
    "\n",
    "try:\n",
    "    # Code that may raise an exception\n",
    "    # ...\n",
    "except Exception as e:\n",
    "    print(\"An error occurred:\", str(e))"
   ]
  }
 ],
 "metadata": {
  "kernelspec": {
   "display_name": "Python 3 (ipykernel)",
   "language": "python",
   "name": "python3"
  },
  "language_info": {
   "codemirror_mode": {
    "name": "ipython",
    "version": 3
   },
   "file_extension": ".py",
   "mimetype": "text/x-python",
   "name": "python",
   "nbconvert_exporter": "python",
   "pygments_lexer": "ipython3",
   "version": "3.10.6"
  }
 },
 "nbformat": 4,
 "nbformat_minor": 5
}
