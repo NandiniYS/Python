{
 "cells": [
  {
   "cell_type": "raw",
   "id": "739eb9ae-bd67-4854-bc40-9f0ee686067c",
   "metadata": {},
   "source": [
    "1. Inheritance is a mechanism where new class is created using properties of Existing class. Inheritance allows to define a class and inherit the methods and properties from Parent class to Child class."
   ]
  },
  {
   "cell_type": "raw",
   "id": "ec4759bb-358b-4c7a-b6d7-6661a0f2ab76",
   "metadata": {},
   "source": [
    "2. Single Inheritance allows a derived class to inherit properties from a single parent class.\n",
    "Multiple Interitance allows a derived class to inherit properties from multiple parent class.\n",
    "Advantages:\n",
    "1.Increases Modularity: Breaks down the code into modules, making it easier to understand.\n",
    "2.Less Development: If any changes, changes can be done in Base class and flow will be derived to child classes automatically \n",
    "3.Code Resuability:Child class copies the attributes, properties of Parent class. It saves time and not writing the code multiple times."
   ]
  },
  {
   "cell_type": "raw",
   "id": "06060c86-7b4d-4988-89d7-9813832cb38e",
   "metadata": {},
   "source": [
    "3. Inheritance allows to create new class from existing class.\n",
    "Here, Parent class is Base class and Child class which is derived from Parent class is known as Derived class"
   ]
  },
  {
   "cell_type": "code",
   "execution_count": 15,
   "id": "b246b436-fc51-4146-ba40-781556831e9d",
   "metadata": {},
   "outputs": [
    {
     "name": "stdout",
     "output_type": "stream",
     "text": [
      "Parent class function\n",
      "Child class function\n"
     ]
    }
   ],
   "source": [
    "#Example of Base class and child class:\n",
    "\n",
    "class Parent:  #Base class\n",
    "    def fun1(self):\n",
    "        print(\"Parent class function\")\n",
    "        \n",
    "class Child(Parent): #Derived class\n",
    "    def fun2(self):\n",
    "        super().fun1()\n",
    "        print(\"Child class function\")\n",
    "    \n",
    "object=Child()\n",
    "object.fun2()"
   ]
  },
  {
   "cell_type": "raw",
   "id": "ec77ad70-6ae4-4424-8dfe-cefe75e13085",
   "metadata": {},
   "source": [
    "4. Protected access modifier doesn't allow the data members of class to be accessed outside the class. Whereas, public access modifiers can be accessed outside the class.\n",
    "Protected access modifiers can be accessed by a child class, but private access modifiers cannot be accessed by child class."
   ]
  },
  {
   "cell_type": "markdown",
   "id": "c0781906-523c-48b0-9ef0-492f78e2476d",
   "metadata": {},
   "source": [
    "5. super keyword is used to access the variables/methods of parents class"
   ]
  },
  {
   "cell_type": "code",
   "execution_count": 3,
   "id": "5d9d127d-7791-4a98-be92-285283c61a86",
   "metadata": {},
   "outputs": [
    {
     "name": "stdout",
     "output_type": "stream",
     "text": [
      "Brand is XYZ and Model is ABC\n",
      "Brand: XYZ with Model: ABC has the mileage of 30kmph\n"
     ]
    }
   ],
   "source": [
    "#Example of super:\n",
    "\n",
    "class Vehicle:\n",
    "    def __init__(self, Brand, Model):\n",
    "        self.Brand=Brand\n",
    "        self.Model=Model\n",
    "        \n",
    "    def displayinfo(self):\n",
    "        print(f\"Brand is {self.Brand} and Model is {self.Model}\")\n",
    "        \n",
    "class Car(Vehicle):\n",
    "    def __init__(self, Brand, Model, Mileage):\n",
    "        super().__init__(Brand, Model)\n",
    "        self.Mileage=Mileage\n",
    "        \n",
    "    def displayinfo(self):\n",
    "        super().displayinfo()\n",
    "        print(f\"Brand: {self.Brand} with Model: {self.Model} has the mileage of {self.Mileage}\")\n",
    "        \n",
    "C1=Car(\"XYZ\", \"ABC\", \"30kmph\")\n",
    "C1.displayinfo()"
   ]
  },
  {
   "cell_type": "code",
   "execution_count": 5,
   "id": "e0718787-b2e4-403d-9d7d-e2536796d614",
   "metadata": {},
   "outputs": [
    {
     "name": "stdout",
     "output_type": "stream",
     "text": [
      "Vehicle ABC of Model XYZ is manufactured in 2000\n",
      "Car ABC of Model XYZ is manufactured in 2000\n"
     ]
    }
   ],
   "source": [
    "#6. Vehicle class\n",
    "\n",
    "class Vehicle:\n",
    "    def __init__(self, make, model, year):\n",
    "        self.Make=make\n",
    "        self.Model=model\n",
    "        self.Year=year\n",
    "        \n",
    "    def start_vehicle(self):\n",
    "        print(f\"Vehicle {self.Make} of Model {self.Model} is manufactured in {self.Year}\")\n",
    "        \n",
    "class Car(Vehicle):\n",
    "    def __init__(self, make, model, year, fuel_type):\n",
    "        super().__init__(make, model, year)\n",
    "        self.fuel_type=fuel_type\n",
    "        \n",
    "    def start_car(self):\n",
    "        super().start_vehicle()\n",
    "        print(f\"Car {self.Make} of Model {self.Model} is manufactured in {self.Year}\")\n",
    "        \n",
    "car1=Car(\"ABC\", \"XYZ\", 2000, \"Diesel\")\n",
    "car1.start_car()"
   ]
  },
  {
   "cell_type": "code",
   "execution_count": 18,
   "id": "9b9e55e8-b22c-4206-9457-4fb8f338286d",
   "metadata": {},
   "outputs": [
    {
     "name": "stdout",
     "output_type": "stream",
     "text": [
      "Nandini from department QEA has salary 8000\n",
      "Nandini has skillset of programming language Python and getting paid 6000 rupees\n"
     ]
    }
   ],
   "source": [
    "#7.Employee class\n",
    "\n",
    "class Employee:\n",
    "    def __init__(self, name, salary):\n",
    "        self.Name=name\n",
    "        self.Salary=salary\n",
    "        \n",
    "class Manager(Employee):\n",
    "    def __init__(self, name, salary, department):\n",
    "        super().__init__(name, salary)\n",
    "        self.department=department\n",
    "        \n",
    "    def Manager_details(self):\n",
    "        print(f\"{self.Name} from department {self.department} has salary {self.Salary}\")\n",
    "        \n",
    "class Developer(Employee):\n",
    "    def __init__(self, name, salary, programming_language):\n",
    "        super().__init__(name, salary)\n",
    "        self.programming_language=programming_language\n",
    "        \n",
    "    def Developer_details(self):\n",
    "        print(f\"{self.Name} has skillset of programming language {self.programming_language} and getting paid {self.Salary} rupees\")\n",
    "        \n",
    "Manager1=Manager(\"Nandini\", 8000, \"QEA\")\n",
    "Manager1.Manager_details()\n",
    "Developer1=Developer(\"Nandini\", 6000, \"Python\")\n",
    "Developer1.Developer_details()"
   ]
  },
  {
   "cell_type": "code",
   "execution_count": 32,
   "id": "4fd2ec60-0130-4bf9-9821-6d00622dd52b",
   "metadata": {},
   "outputs": [
    {
     "name": "stdout",
     "output_type": "stream",
     "text": [
      "Rectangle color: White and border_width: 20 has Area: 50\n"
     ]
    },
    {
     "data": {
      "text/plain": [
       "'Circle color: Red and border_width: 30 has Area: 78.53975'"
      ]
     },
     "execution_count": 32,
     "metadata": {},
     "output_type": "execute_result"
    }
   ],
   "source": [
    "#8.Shape class\n",
    "\n",
    "class Shape:\n",
    "    def __init__(self, colour, border_width):\n",
    "        self.colour=colour\n",
    "        self.border_width=border_width\n",
    "        \n",
    "class Rectangle(Shape):\n",
    "    def __init__(self, colour, border_width, length, width):\n",
    "        super().__init__(colour, border_width)\n",
    "        self.length=length\n",
    "        self.width=width\n",
    "        \n",
    "        \n",
    "    def Area_of_Rectangle(self):\n",
    "        self.Area=self.length*self.width\n",
    "        print(f\"Rectangle color: {self.colour} and border_width: {self.border_width} has Area: {self.Area}\")\n",
    "        \n",
    "class Circle(Shape):\n",
    "    def __init__(self, colour, border_width, radius):\n",
    "        super().__init__(colour, border_width)\n",
    "        self.radius=radius\n",
    "        \n",
    "    def Area_of_Circle(self):\n",
    "        self.Area=3.14159*self.radius*self.radius\n",
    "        return f\"Circle color: {self.colour} and border_width: {self.border_width} has Area: {self.Area}\"\n",
    "\n",
    "Rectangle1=Rectangle(\"White\", 20, 10, 5)\n",
    "Rectangle1.Area_of_Rectangle()\n",
    "\n",
    "Circle1=Circle(\"Red\", 30, 5)\n",
    "Circle1.Area_of_Circle()"
   ]
  },
  {
   "cell_type": "code",
   "execution_count": 3,
   "id": "c8971a25-125e-420c-849e-d091296b4805",
   "metadata": {},
   "outputs": [
    {
     "name": "stdout",
     "output_type": "stream",
     "text": [
      "Oneplus has launched a New model NordCE with screen size 25%\n",
      "Lenovo has launched a New model 8thgen\n"
     ]
    },
    {
     "data": {
      "text/plain": [
       "'100%'"
      ]
     },
     "execution_count": 3,
     "metadata": {},
     "output_type": "execute_result"
    }
   ],
   "source": [
    "#9.Device class\n",
    "\n",
    "class Device:\n",
    "    def __init__(self, Brand, Model):\n",
    "        self.Brand=Brand\n",
    "        self.Model=Model\n",
    "        \n",
    "    def printdetails(self):\n",
    "        print(f\"{self.Brand} has launched a New model {self.Model}\")\n",
    "        \n",
    "class Phone(Device):\n",
    "    def __init__(self, Brand, Model, screen_size):\n",
    "        super().__init__(Brand, Model)\n",
    "        self.screen_size=screen_size\n",
    "        \n",
    "    def PhoneDetails(self):\n",
    "        print(f\"{self.Brand} has launched a New model {self.Model} with screen size {self.screen_size}\")\n",
    "        \n",
    "class Tablet(Device):\n",
    "    def __init__(self, Brand, Model, battery_capacity):\n",
    "        super().__init__(Brand, Model)\n",
    "        self.battery_capacity=battery_capacity\n",
    "        \n",
    "    def TabletDetails(self):\n",
    "        #print(f\"{self.Brand} has launched a New Model {self.Model} with battery capacity {self.battery_capacity}\")\n",
    "        super().printdetails()\n",
    "        return self.battery_capacity\n",
    "        \n",
    "Phone1=Phone(\"Oneplus\", \"NordCE\", \"25%\")\n",
    "Phone1.PhoneDetails()\n",
    "\n",
    "Tablet1=Tablet(\"Lenovo\", \"8thgen\", \"100%\")\n",
    "Tablet1.TabletDetails()"
   ]
  },
  {
   "cell_type": "code",
   "execution_count": 16,
   "id": "19989e49-a8e4-4880-9869-e52d00c8163a",
   "metadata": {},
   "outputs": [
    {
     "name": "stdout",
     "output_type": "stream",
     "text": [
      "Interest 500.0 is credited to Account 283783944. Total Balance is 700.0\n",
      "20 is deducted in Account 359839444. Remaining balance is 80\n"
     ]
    }
   ],
   "source": [
    "#10. BankAccount class\n",
    "\n",
    "class BankAccount:\n",
    "    def __init__(self, account_number, balance):\n",
    "        self.Account_Number=account_number\n",
    "        self.Balance=balance\n",
    "        \n",
    "class SavingsAccount(BankAccount):\n",
    "    def __init__(self, account_number, balance, Principal, Rate_of_Interest, Time):\n",
    "        super().__init__(account_number, balance)\n",
    "        self.Principal=Principal\n",
    "        self.Rate_of_Interest=Rate_of_Interest\n",
    "        self.Time=Time\n",
    "        \n",
    "    def calculate_interest(self):\n",
    "        self.interest=(self.Principal*self.Rate_of_Interest*self.Time)/100\n",
    "        self.Balance+=self.interest\n",
    "        print(f\"Interest {self.interest} is credited to Account {self.Account_Number}. Total Balance is {self.Balance}\")\n",
    "        \n",
    "class CheckingAmount(BankAccount):\n",
    "    def __init__(self, account_number, balance):\n",
    "        super().__init__(account_number, balance)\n",
    "        \n",
    "    def deduct_fees(self, deductamt):\n",
    "        self.deductAmount=deductamt\n",
    "        self.Balance-=deductamt\n",
    "        print(f\"{self.deductAmount} is deducted in Account {self.Account_Number}. Remaining balance is {self.Balance}\")\n",
    "\n",
    "CalInterest1=SavingsAccount(\"283783944\", 200, 1000, 5, 10)\n",
    "CalInterest1.calculate_interest()\n",
    "DeductAmount1=CheckingAmount(\"359839444\", 100)\n",
    "DeductAmount1.deduct_fees(20)"
   ]
  },
  {
   "cell_type": "code",
   "execution_count": null,
   "id": "a57ea252-ef28-4b22-aee1-6056f5998cf5",
   "metadata": {},
   "outputs": [],
   "source": []
  }
 ],
 "metadata": {
  "kernelspec": {
   "display_name": "Python 3 (ipykernel)",
   "language": "python",
   "name": "python3"
  },
  "language_info": {
   "codemirror_mode": {
    "name": "ipython",
    "version": 3
   },
   "file_extension": ".py",
   "mimetype": "text/x-python",
   "name": "python",
   "nbconvert_exporter": "python",
   "pygments_lexer": "ipython3",
   "version": "3.10.6"
  }
 },
 "nbformat": 4,
 "nbformat_minor": 5
}
